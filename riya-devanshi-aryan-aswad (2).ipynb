{
 "cells": [
  {
   "cell_type": "code",
   "execution_count": 1,
   "id": "df72e3eb",
   "metadata": {
    "_cell_guid": "b1076dfc-b9ad-4769-8c92-a6c4dae69d19",
    "_uuid": "8f2839f25d086af736a60e9eeb907d3b93b6e0e5",
    "execution": {
     "iopub.execute_input": "2025-03-13T17:27:09.910186Z",
     "iopub.status.busy": "2025-03-13T17:27:09.909653Z",
     "iopub.status.idle": "2025-03-13T17:27:10.859433Z",
     "shell.execute_reply": "2025-03-13T17:27:10.858183Z"
    },
    "papermill": {
     "duration": 0.964239,
     "end_time": "2025-03-13T17:27:10.861163",
     "exception": false,
     "start_time": "2025-03-13T17:27:09.896924",
     "status": "completed"
    },
    "tags": []
   },
   "outputs": [
    {
     "name": "stdout",
     "output_type": "stream",
     "text": [
      "/kaggle/input/music-streaming-customer-churn-competition/kaggle_data_20250310/sample_submission.csv\n",
      "/kaggle/input/music-streaming-customer-churn-competition/kaggle_data_20250310/train.csv\n",
      "/kaggle/input/music-streaming-customer-churn-competition/kaggle_data_20250310/test.csv\n"
     ]
    }
   ],
   "source": [
    "# This Python 3 environment comes with many helpful analytics libraries installed\n",
    "# It is defined by the kaggle/python Docker image: https://github.com/kaggle/docker-python\n",
    "# For example, here's several helpful packages to load\n",
    "\n",
    "import numpy as np # linear algebra\n",
    "import pandas as pd # data processing, CSV file I/O (e.g. pd.read_csv)\n",
    "\n",
    "# Input data files are available in the read-only \"../input/\" directory\n",
    "# For example, running this (by clicking run or pressing Shift+Enter) will list all files under the input directory\n",
    "\n",
    "import os\n",
    "for dirname, _, filenames in os.walk('/kaggle/input'):\n",
    "    for filename in filenames:\n",
    "        print(os.path.join(dirname, filename))\n",
    "\n",
    "# You can write up to 20GB to the current directory (/kaggle/working/) that gets preserved as output when you create a version using \"Save & Run All\" \n",
    "# You can also write temporary files to /kaggle/temp/, but they won't be saved outside of the current session"
   ]
  },
  {
   "cell_type": "markdown",
   "id": "cb91cc35",
   "metadata": {
    "papermill": {
     "duration": 0.009989,
     "end_time": "2025-03-13T17:27:10.881904",
     "exception": false,
     "start_time": "2025-03-13T17:27:10.871915",
     "status": "completed"
    },
    "tags": []
   },
   "source": [
    "**1. Load the dataset**"
   ]
  },
  {
   "cell_type": "code",
   "execution_count": 2,
   "id": "18addecb",
   "metadata": {
    "execution": {
     "iopub.execute_input": "2025-03-13T17:27:10.904894Z",
     "iopub.status.busy": "2025-03-13T17:27:10.904372Z",
     "iopub.status.idle": "2025-03-13T17:27:11.206618Z",
     "shell.execute_reply": "2025-03-13T17:27:11.205542Z"
    },
    "papermill": {
     "duration": 0.316446,
     "end_time": "2025-03-13T17:27:11.208666",
     "exception": false,
     "start_time": "2025-03-13T17:27:10.892220",
     "status": "completed"
    },
    "tags": []
   },
   "outputs": [],
   "source": [
    "# use pandas to load your data to dataframe objects\n",
    "import pandas as pd\n",
    "\n",
    "# load the training, testing, and sample submission data\n",
    "training_data = pd.read_csv(r'/kaggle/input/music-streaming-customer-churn-competition/kaggle_data_20250310/train.csv')\n",
    "testing_data = pd.read_csv(r'/kaggle/input/music-streaming-customer-churn-competition/kaggle_data_20250310/test.csv')\n",
    "sample_submission = pd.read_csv(r'/kaggle/input/music-streaming-customer-churn-competition/kaggle_data_20250310/sample_submission.csv')"
   ]
  },
  {
   "cell_type": "code",
   "execution_count": 3,
   "id": "f23f38e8",
   "metadata": {
    "execution": {
     "iopub.execute_input": "2025-03-13T17:27:11.231066Z",
     "iopub.status.busy": "2025-03-13T17:27:11.230598Z",
     "iopub.status.idle": "2025-03-13T17:27:11.236719Z",
     "shell.execute_reply": "2025-03-13T17:27:11.235539Z"
    },
    "papermill": {
     "duration": 0.018897,
     "end_time": "2025-03-13T17:27:11.238305",
     "exception": false,
     "start_time": "2025-03-13T17:27:11.219408",
     "status": "completed"
    },
    "tags": []
   },
   "outputs": [
    {
     "name": "stdout",
     "output_type": "stream",
     "text": [
      "dataset shape: (41000, 20)\n",
      "dataset shape: (9999, 19)\n",
      "dataset shape: (7, 2)\n"
     ]
    }
   ],
   "source": [
    "#Verify the loaded dataset\n",
    "for dataset in [training_data, testing_data, sample_submission]:\n",
    "    print(f\"dataset shape: {dataset.shape}\")"
   ]
  },
  {
   "cell_type": "code",
   "execution_count": 4,
   "id": "a96bc346",
   "metadata": {
    "execution": {
     "iopub.execute_input": "2025-03-13T17:27:11.260743Z",
     "iopub.status.busy": "2025-03-13T17:27:11.260366Z",
     "iopub.status.idle": "2025-03-13T17:27:11.297161Z",
     "shell.execute_reply": "2025-03-13T17:27:11.295897Z"
    },
    "papermill": {
     "duration": 0.050346,
     "end_time": "2025-03-13T17:27:11.299099",
     "exception": false,
     "start_time": "2025-03-13T17:27:11.248753",
     "status": "completed"
    },
    "tags": []
   },
   "outputs": [
    {
     "data": {
      "text/html": [
       "<div>\n",
       "<style scoped>\n",
       "    .dataframe tbody tr th:only-of-type {\n",
       "        vertical-align: middle;\n",
       "    }\n",
       "\n",
       "    .dataframe tbody tr th {\n",
       "        vertical-align: top;\n",
       "    }\n",
       "\n",
       "    .dataframe thead th {\n",
       "        text-align: right;\n",
       "    }\n",
       "</style>\n",
       "<table border=\"1\" class=\"dataframe\">\n",
       "  <thead>\n",
       "    <tr style=\"text-align: right;\">\n",
       "      <th></th>\n",
       "      <th>customer_id</th>\n",
       "      <th>age</th>\n",
       "      <th>location</th>\n",
       "      <th>subscription_type</th>\n",
       "      <th>payment_plan</th>\n",
       "      <th>num_subscription_pauses</th>\n",
       "      <th>payment_method</th>\n",
       "      <th>customer_service_inquiries</th>\n",
       "      <th>signup_date</th>\n",
       "      <th>weekly_hours</th>\n",
       "      <th>average_session_length</th>\n",
       "      <th>song_skip_rate</th>\n",
       "      <th>weekly_songs_played</th>\n",
       "      <th>weekly_unique_songs</th>\n",
       "      <th>num_favorite_artists</th>\n",
       "      <th>num_platform_friends</th>\n",
       "      <th>num_playlists_created</th>\n",
       "      <th>num_shared_playlists</th>\n",
       "      <th>notifications_clicked</th>\n",
       "      <th>churned</th>\n",
       "    </tr>\n",
       "  </thead>\n",
       "  <tbody>\n",
       "    <tr>\n",
       "      <th>0</th>\n",
       "      <td>1</td>\n",
       "      <td>72</td>\n",
       "      <td>Washington</td>\n",
       "      <td>family premium</td>\n",
       "      <td>monthly</td>\n",
       "      <td>monthly</td>\n",
       "      <td>venmo</td>\n",
       "      <td>many</td>\n",
       "      <td>4/8/2014</td>\n",
       "      <td>17.953071</td>\n",
       "      <td>2.453398</td>\n",
       "      <td>0.04</td>\n",
       "      <td>245</td>\n",
       "      <td>151</td>\n",
       "      <td>35</td>\n",
       "      <td>57</td>\n",
       "      <td>14</td>\n",
       "      <td>7</td>\n",
       "      <td>0</td>\n",
       "      <td>0</td>\n",
       "    </tr>\n",
       "    <tr>\n",
       "      <th>1</th>\n",
       "      <td>2</td>\n",
       "      <td>48</td>\n",
       "      <td>New York</td>\n",
       "      <td>family premium</td>\n",
       "      <td>annual</td>\n",
       "      <td>monthly</td>\n",
       "      <td>credit</td>\n",
       "      <td>none</td>\n",
       "      <td>12/10/2015</td>\n",
       "      <td>7.725493</td>\n",
       "      <td>0.924008</td>\n",
       "      <td>0.98</td>\n",
       "      <td>112</td>\n",
       "      <td>57</td>\n",
       "      <td>18</td>\n",
       "      <td>62</td>\n",
       "      <td>10</td>\n",
       "      <td>3</td>\n",
       "      <td>1</td>\n",
       "      <td>0</td>\n",
       "    </tr>\n",
       "    <tr>\n",
       "      <th>2</th>\n",
       "      <td>3</td>\n",
       "      <td>76</td>\n",
       "      <td>West Virginia</td>\n",
       "      <td>family premium</td>\n",
       "      <td>annual</td>\n",
       "      <td>annual</td>\n",
       "      <td>credit</td>\n",
       "      <td>few</td>\n",
       "      <td>4/22/2014</td>\n",
       "      <td>9.514800</td>\n",
       "      <td>1.563817</td>\n",
       "      <td>0.35</td>\n",
       "      <td>124</td>\n",
       "      <td>96</td>\n",
       "      <td>15</td>\n",
       "      <td>34</td>\n",
       "      <td>17</td>\n",
       "      <td>6</td>\n",
       "      <td>1</td>\n",
       "      <td>0</td>\n",
       "    </tr>\n",
       "    <tr>\n",
       "      <th>3</th>\n",
       "      <td>4</td>\n",
       "      <td>80</td>\n",
       "      <td>Georgia</td>\n",
       "      <td>family premium</td>\n",
       "      <td>annual</td>\n",
       "      <td>annual</td>\n",
       "      <td>debit</td>\n",
       "      <td>few</td>\n",
       "      <td>8/31/2013</td>\n",
       "      <td>8.497869</td>\n",
       "      <td>1.089721</td>\n",
       "      <td>0.69</td>\n",
       "      <td>130</td>\n",
       "      <td>109</td>\n",
       "      <td>13</td>\n",
       "      <td>42</td>\n",
       "      <td>8</td>\n",
       "      <td>4</td>\n",
       "      <td>0</td>\n",
       "      <td>0</td>\n",
       "    </tr>\n",
       "    <tr>\n",
       "      <th>4</th>\n",
       "      <td>5</td>\n",
       "      <td>39</td>\n",
       "      <td>New Jersey</td>\n",
       "      <td>family premium</td>\n",
       "      <td>annual</td>\n",
       "      <td>annual</td>\n",
       "      <td>debit</td>\n",
       "      <td>many</td>\n",
       "      <td>1/14/2013</td>\n",
       "      <td>29.971731</td>\n",
       "      <td>2.313365</td>\n",
       "      <td>0.76</td>\n",
       "      <td>490</td>\n",
       "      <td>293</td>\n",
       "      <td>54</td>\n",
       "      <td>90</td>\n",
       "      <td>14</td>\n",
       "      <td>5</td>\n",
       "      <td>0</td>\n",
       "      <td>0</td>\n",
       "    </tr>\n",
       "  </tbody>\n",
       "</table>\n",
       "</div>"
      ],
      "text/plain": [
       "   customer_id  age       location subscription_type payment_plan  \\\n",
       "0            1   72     Washington    family premium      monthly   \n",
       "1            2   48       New York    family premium       annual   \n",
       "2            3   76  West Virginia    family premium       annual   \n",
       "3            4   80        Georgia    family premium       annual   \n",
       "4            5   39     New Jersey    family premium       annual   \n",
       "\n",
       "  num_subscription_pauses payment_method customer_service_inquiries  \\\n",
       "0                 monthly          venmo                       many   \n",
       "1                 monthly         credit                       none   \n",
       "2                  annual         credit                        few   \n",
       "3                  annual          debit                        few   \n",
       "4                  annual          debit                       many   \n",
       "\n",
       "  signup_date  weekly_hours  average_session_length  song_skip_rate  \\\n",
       "0    4/8/2014     17.953071                2.453398            0.04   \n",
       "1  12/10/2015      7.725493                0.924008            0.98   \n",
       "2   4/22/2014      9.514800                1.563817            0.35   \n",
       "3   8/31/2013      8.497869                1.089721            0.69   \n",
       "4   1/14/2013     29.971731                2.313365            0.76   \n",
       "\n",
       "   weekly_songs_played  weekly_unique_songs  num_favorite_artists  \\\n",
       "0                  245                  151                    35   \n",
       "1                  112                   57                    18   \n",
       "2                  124                   96                    15   \n",
       "3                  130                  109                    13   \n",
       "4                  490                  293                    54   \n",
       "\n",
       "   num_platform_friends  num_playlists_created  num_shared_playlists  \\\n",
       "0                    57                     14                     7   \n",
       "1                    62                     10                     3   \n",
       "2                    34                     17                     6   \n",
       "3                    42                      8                     4   \n",
       "4                    90                     14                     5   \n",
       "\n",
       "   notifications_clicked  churned  \n",
       "0                      0        0  \n",
       "1                      1        0  \n",
       "2                      1        0  \n",
       "3                      0        0  \n",
       "4                      0        0  "
      ]
     },
     "execution_count": 4,
     "metadata": {},
     "output_type": "execute_result"
    }
   ],
   "source": [
    "#Verifying the loaded dataset with some samples\n",
    "training_data.head()"
   ]
  },
  {
   "cell_type": "code",
   "execution_count": 5,
   "id": "e0fa07b2",
   "metadata": {
    "execution": {
     "iopub.execute_input": "2025-03-13T17:27:11.322276Z",
     "iopub.status.busy": "2025-03-13T17:27:11.321915Z",
     "iopub.status.idle": "2025-03-13T17:27:11.339521Z",
     "shell.execute_reply": "2025-03-13T17:27:11.338378Z"
    },
    "papermill": {
     "duration": 0.031038,
     "end_time": "2025-03-13T17:27:11.341313",
     "exception": false,
     "start_time": "2025-03-13T17:27:11.310275",
     "status": "completed"
    },
    "tags": []
   },
   "outputs": [
    {
     "data": {
      "text/html": [
       "<div>\n",
       "<style scoped>\n",
       "    .dataframe tbody tr th:only-of-type {\n",
       "        vertical-align: middle;\n",
       "    }\n",
       "\n",
       "    .dataframe tbody tr th {\n",
       "        vertical-align: top;\n",
       "    }\n",
       "\n",
       "    .dataframe thead th {\n",
       "        text-align: right;\n",
       "    }\n",
       "</style>\n",
       "<table border=\"1\" class=\"dataframe\">\n",
       "  <thead>\n",
       "    <tr style=\"text-align: right;\">\n",
       "      <th></th>\n",
       "      <th>customer_id</th>\n",
       "      <th>age</th>\n",
       "      <th>location</th>\n",
       "      <th>subscription_type</th>\n",
       "      <th>payment_plan</th>\n",
       "      <th>num_subscription_pauses</th>\n",
       "      <th>payment_method</th>\n",
       "      <th>customer_service_inquiries</th>\n",
       "      <th>signup_date</th>\n",
       "      <th>weekly_hours</th>\n",
       "      <th>average_session_length</th>\n",
       "      <th>song_skip_rate</th>\n",
       "      <th>weekly_songs_played</th>\n",
       "      <th>weekly_unique_songs</th>\n",
       "      <th>num_favorite_artists</th>\n",
       "      <th>num_platform_friends</th>\n",
       "      <th>num_playlists_created</th>\n",
       "      <th>num_shared_playlists</th>\n",
       "      <th>notifications_clicked</th>\n",
       "    </tr>\n",
       "  </thead>\n",
       "  <tbody>\n",
       "    <tr>\n",
       "      <th>0</th>\n",
       "      <td>41001</td>\n",
       "      <td>54</td>\n",
       "      <td>South Carolina</td>\n",
       "      <td>family premium</td>\n",
       "      <td>annual</td>\n",
       "      <td>monthly</td>\n",
       "      <td>credit</td>\n",
       "      <td>some</td>\n",
       "      <td>10/16/2015</td>\n",
       "      <td>13.893952</td>\n",
       "      <td>1.239548</td>\n",
       "      <td>0.16</td>\n",
       "      <td>168</td>\n",
       "      <td>95</td>\n",
       "      <td>17</td>\n",
       "      <td>67</td>\n",
       "      <td>21</td>\n",
       "      <td>7</td>\n",
       "      <td>0</td>\n",
       "    </tr>\n",
       "    <tr>\n",
       "      <th>1</th>\n",
       "      <td>41002</td>\n",
       "      <td>54</td>\n",
       "      <td>Idaho</td>\n",
       "      <td>premium</td>\n",
       "      <td>monthly</td>\n",
       "      <td>monthly</td>\n",
       "      <td>debit</td>\n",
       "      <td>few</td>\n",
       "      <td>2/14/2016</td>\n",
       "      <td>20.846052</td>\n",
       "      <td>2.174727</td>\n",
       "      <td>0.54</td>\n",
       "      <td>286</td>\n",
       "      <td>150</td>\n",
       "      <td>32</td>\n",
       "      <td>56</td>\n",
       "      <td>7</td>\n",
       "      <td>4</td>\n",
       "      <td>65</td>\n",
       "    </tr>\n",
       "    <tr>\n",
       "      <th>2</th>\n",
       "      <td>41003</td>\n",
       "      <td>55</td>\n",
       "      <td>Maine</td>\n",
       "      <td>basic</td>\n",
       "      <td>annual</td>\n",
       "      <td>monthly</td>\n",
       "      <td>venmo</td>\n",
       "      <td>some</td>\n",
       "      <td>5/29/2018</td>\n",
       "      <td>15.448902</td>\n",
       "      <td>1.054629</td>\n",
       "      <td>0.49</td>\n",
       "      <td>214</td>\n",
       "      <td>194</td>\n",
       "      <td>21</td>\n",
       "      <td>52</td>\n",
       "      <td>8</td>\n",
       "      <td>4</td>\n",
       "      <td>155</td>\n",
       "    </tr>\n",
       "    <tr>\n",
       "      <th>3</th>\n",
       "      <td>41004</td>\n",
       "      <td>59</td>\n",
       "      <td>Washington</td>\n",
       "      <td>premium</td>\n",
       "      <td>monthly</td>\n",
       "      <td>monthly</td>\n",
       "      <td>debit</td>\n",
       "      <td>many</td>\n",
       "      <td>9/10/2016</td>\n",
       "      <td>5.980224</td>\n",
       "      <td>0.329190</td>\n",
       "      <td>0.27</td>\n",
       "      <td>85</td>\n",
       "      <td>61</td>\n",
       "      <td>16</td>\n",
       "      <td>62</td>\n",
       "      <td>12</td>\n",
       "      <td>3</td>\n",
       "      <td>222</td>\n",
       "    </tr>\n",
       "    <tr>\n",
       "      <th>4</th>\n",
       "      <td>41005</td>\n",
       "      <td>58</td>\n",
       "      <td>Georgia</td>\n",
       "      <td>family premium</td>\n",
       "      <td>annual</td>\n",
       "      <td>annual</td>\n",
       "      <td>credit</td>\n",
       "      <td>none</td>\n",
       "      <td>3/27/2020</td>\n",
       "      <td>22.112438</td>\n",
       "      <td>1.695844</td>\n",
       "      <td>0.61</td>\n",
       "      <td>325</td>\n",
       "      <td>234</td>\n",
       "      <td>42</td>\n",
       "      <td>62</td>\n",
       "      <td>11</td>\n",
       "      <td>4</td>\n",
       "      <td>2</td>\n",
       "    </tr>\n",
       "  </tbody>\n",
       "</table>\n",
       "</div>"
      ],
      "text/plain": [
       "   customer_id  age        location subscription_type payment_plan  \\\n",
       "0        41001   54  South Carolina    family premium       annual   \n",
       "1        41002   54           Idaho           premium      monthly   \n",
       "2        41003   55           Maine             basic       annual   \n",
       "3        41004   59      Washington           premium      monthly   \n",
       "4        41005   58         Georgia    family premium       annual   \n",
       "\n",
       "  num_subscription_pauses payment_method customer_service_inquiries  \\\n",
       "0                 monthly         credit                       some   \n",
       "1                 monthly          debit                        few   \n",
       "2                 monthly          venmo                       some   \n",
       "3                 monthly          debit                       many   \n",
       "4                  annual         credit                       none   \n",
       "\n",
       "  signup_date  weekly_hours  average_session_length  song_skip_rate  \\\n",
       "0  10/16/2015     13.893952                1.239548            0.16   \n",
       "1   2/14/2016     20.846052                2.174727            0.54   \n",
       "2   5/29/2018     15.448902                1.054629            0.49   \n",
       "3   9/10/2016      5.980224                0.329190            0.27   \n",
       "4   3/27/2020     22.112438                1.695844            0.61   \n",
       "\n",
       "   weekly_songs_played  weekly_unique_songs  num_favorite_artists  \\\n",
       "0                  168                   95                    17   \n",
       "1                  286                  150                    32   \n",
       "2                  214                  194                    21   \n",
       "3                   85                   61                    16   \n",
       "4                  325                  234                    42   \n",
       "\n",
       "   num_platform_friends  num_playlists_created  num_shared_playlists  \\\n",
       "0                    67                     21                     7   \n",
       "1                    56                      7                     4   \n",
       "2                    52                      8                     4   \n",
       "3                    62                     12                     3   \n",
       "4                    62                     11                     4   \n",
       "\n",
       "   notifications_clicked  \n",
       "0                      0  \n",
       "1                     65  \n",
       "2                    155  \n",
       "3                    222  \n",
       "4                      2  "
      ]
     },
     "execution_count": 5,
     "metadata": {},
     "output_type": "execute_result"
    }
   ],
   "source": [
    "#Verifying the loaded dataset with some samples\n",
    "testing_data.head()"
   ]
  },
  {
   "cell_type": "code",
   "execution_count": 6,
   "id": "3fa7feff",
   "metadata": {
    "execution": {
     "iopub.execute_input": "2025-03-13T17:27:11.364738Z",
     "iopub.status.busy": "2025-03-13T17:27:11.364382Z",
     "iopub.status.idle": "2025-03-13T17:27:11.373077Z",
     "shell.execute_reply": "2025-03-13T17:27:11.372079Z"
    },
    "papermill": {
     "duration": 0.022186,
     "end_time": "2025-03-13T17:27:11.374647",
     "exception": false,
     "start_time": "2025-03-13T17:27:11.352461",
     "status": "completed"
    },
    "tags": []
   },
   "outputs": [
    {
     "data": {
      "text/html": [
       "<div>\n",
       "<style scoped>\n",
       "    .dataframe tbody tr th:only-of-type {\n",
       "        vertical-align: middle;\n",
       "    }\n",
       "\n",
       "    .dataframe tbody tr th {\n",
       "        vertical-align: top;\n",
       "    }\n",
       "\n",
       "    .dataframe thead th {\n",
       "        text-align: right;\n",
       "    }\n",
       "</style>\n",
       "<table border=\"1\" class=\"dataframe\">\n",
       "  <thead>\n",
       "    <tr style=\"text-align: right;\">\n",
       "      <th></th>\n",
       "      <th>customer_id</th>\n",
       "      <th>churned</th>\n",
       "    </tr>\n",
       "  </thead>\n",
       "  <tbody>\n",
       "    <tr>\n",
       "      <th>0</th>\n",
       "      <td>41001</td>\n",
       "      <td>1</td>\n",
       "    </tr>\n",
       "    <tr>\n",
       "      <th>1</th>\n",
       "      <td>41002</td>\n",
       "      <td>1</td>\n",
       "    </tr>\n",
       "    <tr>\n",
       "      <th>2</th>\n",
       "      <td>41003</td>\n",
       "      <td>0</td>\n",
       "    </tr>\n",
       "    <tr>\n",
       "      <th>3</th>\n",
       "      <td>41004</td>\n",
       "      <td>0</td>\n",
       "    </tr>\n",
       "    <tr>\n",
       "      <th>4</th>\n",
       "      <td>41005</td>\n",
       "      <td>1</td>\n",
       "    </tr>\n",
       "  </tbody>\n",
       "</table>\n",
       "</div>"
      ],
      "text/plain": [
       "   customer_id  churned\n",
       "0        41001        1\n",
       "1        41002        1\n",
       "2        41003        0\n",
       "3        41004        0\n",
       "4        41005        1"
      ]
     },
     "execution_count": 6,
     "metadata": {},
     "output_type": "execute_result"
    }
   ],
   "source": [
    "#Verifying the loaded dataset with some samples\n",
    "sample_submission.head()"
   ]
  },
  {
   "cell_type": "code",
   "execution_count": 7,
   "id": "1a450e6d",
   "metadata": {
    "execution": {
     "iopub.execute_input": "2025-03-13T17:27:11.398868Z",
     "iopub.status.busy": "2025-03-13T17:27:11.398489Z",
     "iopub.status.idle": "2025-03-13T17:27:11.461781Z",
     "shell.execute_reply": "2025-03-13T17:27:11.460265Z"
    },
    "papermill": {
     "duration": 0.077594,
     "end_time": "2025-03-13T17:27:11.463576",
     "exception": false,
     "start_time": "2025-03-13T17:27:11.385982",
     "status": "completed"
    },
    "tags": []
   },
   "outputs": [
    {
     "name": "stdout",
     "output_type": "stream",
     "text": [
      "<class 'pandas.core.frame.DataFrame'>\n",
      "RangeIndex: 41000 entries, 0 to 40999\n",
      "Data columns (total 20 columns):\n",
      " #   Column                      Non-Null Count  Dtype  \n",
      "---  ------                      --------------  -----  \n",
      " 0   customer_id                 41000 non-null  int64  \n",
      " 1   age                         41000 non-null  int64  \n",
      " 2   location                    41000 non-null  object \n",
      " 3   subscription_type           41000 non-null  object \n",
      " 4   payment_plan                41000 non-null  object \n",
      " 5   num_subscription_pauses     41000 non-null  object \n",
      " 6   payment_method              41000 non-null  object \n",
      " 7   customer_service_inquiries  41000 non-null  object \n",
      " 8   signup_date                 41000 non-null  object \n",
      " 9   weekly_hours                41000 non-null  float64\n",
      " 10  average_session_length      41000 non-null  float64\n",
      " 11  song_skip_rate              41000 non-null  float64\n",
      " 12  weekly_songs_played         41000 non-null  int64  \n",
      " 13  weekly_unique_songs         41000 non-null  int64  \n",
      " 14  num_favorite_artists        41000 non-null  int64  \n",
      " 15  num_platform_friends        41000 non-null  int64  \n",
      " 16  num_playlists_created       41000 non-null  int64  \n",
      " 17  num_shared_playlists        41000 non-null  int64  \n",
      " 18  notifications_clicked       41000 non-null  int64  \n",
      " 19  churned                     41000 non-null  int64  \n",
      "dtypes: float64(3), int64(10), object(7)\n",
      "memory usage: 6.3+ MB\n",
      "None\n",
      "<class 'pandas.core.frame.DataFrame'>\n",
      "RangeIndex: 9999 entries, 0 to 9998\n",
      "Data columns (total 19 columns):\n",
      " #   Column                      Non-Null Count  Dtype  \n",
      "---  ------                      --------------  -----  \n",
      " 0   customer_id                 9999 non-null   int64  \n",
      " 1   age                         9999 non-null   int64  \n",
      " 2   location                    9999 non-null   object \n",
      " 3   subscription_type           9999 non-null   object \n",
      " 4   payment_plan                9999 non-null   object \n",
      " 5   num_subscription_pauses     9999 non-null   object \n",
      " 6   payment_method              9999 non-null   object \n",
      " 7   customer_service_inquiries  9999 non-null   object \n",
      " 8   signup_date                 9999 non-null   object \n",
      " 9   weekly_hours                9999 non-null   float64\n",
      " 10  average_session_length      9999 non-null   float64\n",
      " 11  song_skip_rate              9999 non-null   float64\n",
      " 12  weekly_songs_played         9999 non-null   int64  \n",
      " 13  weekly_unique_songs         9999 non-null   int64  \n",
      " 14  num_favorite_artists        9999 non-null   int64  \n",
      " 15  num_platform_friends        9999 non-null   int64  \n",
      " 16  num_playlists_created       9999 non-null   int64  \n",
      " 17  num_shared_playlists        9999 non-null   int64  \n",
      " 18  notifications_clicked       9999 non-null   int64  \n",
      "dtypes: float64(3), int64(9), object(7)\n",
      "memory usage: 1.4+ MB\n",
      "None\n",
      "<class 'pandas.core.frame.DataFrame'>\n",
      "RangeIndex: 7 entries, 0 to 6\n",
      "Data columns (total 2 columns):\n",
      " #   Column       Non-Null Count  Dtype\n",
      "---  ------       --------------  -----\n",
      " 0   customer_id  7 non-null      int64\n",
      " 1   churned      7 non-null      int64\n",
      "dtypes: int64(2)\n",
      "memory usage: 240.0 bytes\n",
      "None\n"
     ]
    }
   ],
   "source": [
    "# verify the data was loaded\n",
    "for dataset in [training_data, testing_data, sample_submission]:\n",
    "    print(dataset.info())"
   ]
  },
  {
   "cell_type": "code",
   "execution_count": 8,
   "id": "4e2aa0b8",
   "metadata": {
    "execution": {
     "iopub.execute_input": "2025-03-13T17:27:11.487545Z",
     "iopub.status.busy": "2025-03-13T17:27:11.487118Z",
     "iopub.status.idle": "2025-03-13T17:27:11.493703Z",
     "shell.execute_reply": "2025-03-13T17:27:11.492587Z"
    },
    "papermill": {
     "duration": 0.020461,
     "end_time": "2025-03-13T17:27:11.495493",
     "exception": false,
     "start_time": "2025-03-13T17:27:11.475032",
     "status": "completed"
    },
    "tags": []
   },
   "outputs": [
    {
     "data": {
      "text/plain": [
       "Index(['customer_id', 'age', 'location', 'subscription_type', 'payment_plan',\n",
       "       'num_subscription_pauses', 'payment_method',\n",
       "       'customer_service_inquiries', 'signup_date', 'weekly_hours',\n",
       "       'average_session_length', 'song_skip_rate', 'weekly_songs_played',\n",
       "       'weekly_unique_songs', 'num_favorite_artists', 'num_platform_friends',\n",
       "       'num_playlists_created', 'num_shared_playlists',\n",
       "       'notifications_clicked', 'churned'],\n",
       "      dtype='object')"
      ]
     },
     "execution_count": 8,
     "metadata": {},
     "output_type": "execute_result"
    }
   ],
   "source": [
    "training_data.columns"
   ]
  },
  {
   "cell_type": "markdown",
   "id": "79e86eca",
   "metadata": {
    "papermill": {
     "duration": 0.011269,
     "end_time": "2025-03-13T17:27:11.518303",
     "exception": false,
     "start_time": "2025-03-13T17:27:11.507034",
     "status": "completed"
    },
    "tags": []
   },
   "source": [
    "**2. Clean the data**"
   ]
  },
  {
   "cell_type": "code",
   "execution_count": 9,
   "id": "0da700fc",
   "metadata": {
    "execution": {
     "iopub.execute_input": "2025-03-13T17:27:11.542449Z",
     "iopub.status.busy": "2025-03-13T17:27:11.542085Z",
     "iopub.status.idle": "2025-03-13T17:27:11.572138Z",
     "shell.execute_reply": "2025-03-13T17:27:11.570856Z"
    },
    "papermill": {
     "duration": 0.044446,
     "end_time": "2025-03-13T17:27:11.574061",
     "exception": false,
     "start_time": "2025-03-13T17:27:11.529615",
     "status": "completed"
    },
    "tags": []
   },
   "outputs": [
    {
     "name": "stdout",
     "output_type": "stream",
     "text": [
      "\n",
      "🔹 Training Data - Missing Values:\n",
      "customer_id                   0\n",
      "age                           0\n",
      "location                      0\n",
      "subscription_type             0\n",
      "payment_plan                  0\n",
      "num_subscription_pauses       0\n",
      "payment_method                0\n",
      "customer_service_inquiries    0\n",
      "signup_date                   0\n",
      "weekly_hours                  0\n",
      "average_session_length        0\n",
      "song_skip_rate                0\n",
      "weekly_songs_played           0\n",
      "weekly_unique_songs           0\n",
      "num_favorite_artists          0\n",
      "num_platform_friends          0\n",
      "num_playlists_created         0\n",
      "num_shared_playlists          0\n",
      "notifications_clicked         0\n",
      "churned                       0\n",
      "dtype: int64\n",
      "\n",
      "🔹 Testing Data - Missing Values:\n",
      "customer_id                   0\n",
      "age                           0\n",
      "location                      0\n",
      "subscription_type             0\n",
      "payment_plan                  0\n",
      "num_subscription_pauses       0\n",
      "payment_method                0\n",
      "customer_service_inquiries    0\n",
      "signup_date                   0\n",
      "weekly_hours                  0\n",
      "average_session_length        0\n",
      "song_skip_rate                0\n",
      "weekly_songs_played           0\n",
      "weekly_unique_songs           0\n",
      "num_favorite_artists          0\n",
      "num_platform_friends          0\n",
      "num_playlists_created         0\n",
      "num_shared_playlists          0\n",
      "notifications_clicked         0\n",
      "dtype: int64\n",
      "\n",
      "🔹 Sample Submission - Missing Values:\n",
      "customer_id    0\n",
      "churned        0\n",
      "dtype: int64\n"
     ]
    }
   ],
   "source": [
    "# verify the data for missing values\n",
    "for dataset_name, dataset in zip([\"Training Data\", \"Testing Data\", \"Sample Submission\"], \n",
    "                                 [training_data, testing_data, sample_submission]):\n",
    "    \n",
    "    print(f\"\\n🔹 {dataset_name} - Missing Values:\")\n",
    "    print(dataset.isnull().sum()) "
   ]
  },
  {
   "cell_type": "code",
   "execution_count": 10,
   "id": "05862f6a",
   "metadata": {
    "execution": {
     "iopub.execute_input": "2025-03-13T17:27:11.598077Z",
     "iopub.status.busy": "2025-03-13T17:27:11.597705Z",
     "iopub.status.idle": "2025-03-13T17:27:11.606473Z",
     "shell.execute_reply": "2025-03-13T17:27:11.605448Z"
    },
    "papermill": {
     "duration": 0.022865,
     "end_time": "2025-03-13T17:27:11.608494",
     "exception": false,
     "start_time": "2025-03-13T17:27:11.585629",
     "status": "completed"
    },
    "tags": []
   },
   "outputs": [],
   "source": [
    "columns_to_drop = ['customer_id', 'signup_date', 'location', 'payment_method', 'num_subscription_pauses']\n",
    "training_data = training_data.drop(columns=columns_to_drop)\n"
   ]
  },
  {
   "cell_type": "code",
   "execution_count": 11,
   "id": "7b0f7982",
   "metadata": {
    "execution": {
     "iopub.execute_input": "2025-03-13T17:27:11.632816Z",
     "iopub.status.busy": "2025-03-13T17:27:11.632448Z",
     "iopub.status.idle": "2025-03-13T17:27:11.638991Z",
     "shell.execute_reply": "2025-03-13T17:27:11.637831Z"
    },
    "papermill": {
     "duration": 0.020837,
     "end_time": "2025-03-13T17:27:11.640853",
     "exception": false,
     "start_time": "2025-03-13T17:27:11.620016",
     "status": "completed"
    },
    "tags": []
   },
   "outputs": [
    {
     "data": {
      "text/plain": [
       "Index(['age', 'subscription_type', 'payment_plan',\n",
       "       'customer_service_inquiries', 'weekly_hours', 'average_session_length',\n",
       "       'song_skip_rate', 'weekly_songs_played', 'weekly_unique_songs',\n",
       "       'num_favorite_artists', 'num_platform_friends', 'num_playlists_created',\n",
       "       'num_shared_playlists', 'notifications_clicked', 'churned'],\n",
       "      dtype='object')"
      ]
     },
     "execution_count": 11,
     "metadata": {},
     "output_type": "execute_result"
    }
   ],
   "source": [
    "training_data.columns"
   ]
  },
  {
   "cell_type": "markdown",
   "id": "ec0a82d2",
   "metadata": {
    "papermill": {
     "duration": 0.014632,
     "end_time": "2025-03-13T17:27:11.667283",
     "exception": false,
     "start_time": "2025-03-13T17:27:11.652651",
     "status": "completed"
    },
    "tags": []
   },
   "source": [
    "**3. Data Profiling**"
   ]
  },
  {
   "cell_type": "code",
   "execution_count": 12,
   "id": "6a8955de",
   "metadata": {
    "execution": {
     "iopub.execute_input": "2025-03-13T17:27:11.692433Z",
     "iopub.status.busy": "2025-03-13T17:27:11.692074Z",
     "iopub.status.idle": "2025-03-13T17:27:11.706122Z",
     "shell.execute_reply": "2025-03-13T17:27:11.704898Z"
    },
    "papermill": {
     "duration": 0.028811,
     "end_time": "2025-03-13T17:27:11.708093",
     "exception": false,
     "start_time": "2025-03-13T17:27:11.679282",
     "status": "completed"
    },
    "tags": []
   },
   "outputs": [],
   "source": [
    "# data profiling function\n",
    "def create_data_profiling_df(data: pd.DataFrame) -> pd.DataFrame:\n",
    "\n",
    "    # create an empty dataframe to gather information about each column\n",
    "    data_profiling_df = pd.DataFrame(columns = [\"column_name\",\n",
    "                                                \"data_type\",\n",
    "                                                \"values\",\n",
    "                                                \"null_values\",\n",
    "                                                \"percent_null\",\n",
    "                                                \"unique_values\",\n",
    "                                                \"duplicate_values\",\n",
    "                                                \"min\",\n",
    "                                                \"max\",\n",
    "                                                \"median\",\n",
    "                                                \"stdev\",\n",
    "                                                \"IQR\",\n",
    "                                                \"skewness\",\n",
    "                                                \"most_common_value\",\n",
    "                                                \"outliers\"])\n",
    "\n",
    "    # loop through each column to add rows to the data_profiling_df dataframe\n",
    "    for column in data.columns:\n",
    "\n",
    "        # create an empty dictionary to store the columns data\n",
    "        column_dict = {}\n",
    "\n",
    "        try:\n",
    "            column_dict[\"column_name\"] = [column]\n",
    "            column_dict[\"data_type\"] = [data[column].dtypes]\n",
    "            column_dict[\"values\"] = [data[column].notnull().sum()]\n",
    "            column_dict[\"null_values\"] = [data[column].isna().sum()]\n",
    "            column_dict[\"percent_null\"] = [round(data[column].isna().sum() / len(data[column]), 2)]\n",
    "            column_dict[\"unique_values\"] = [len(data[column].unique())]\n",
    "            column_dict[\"duplicate_values\"] = [(data[column].notnull().sum()) - len(data[column].unique())]\n",
    "            column_dict[\"min\"] = [data[column].min() if (data[column].dtypes != object) else \"NA\"]\n",
    "            column_dict[\"max\"] = [round(data[column].max(), 1) if (data[column].dtypes != object) else \"NA\"]\n",
    "            column_dict[\"mean\"] = [round(data[column].mean(), 1) if (data[column].dtypes != object) else \"NA\"]\n",
    "            column_dict[\"median\"] = [round(data[column].median(), 1) if (data[column].dtypes != object) else \"NA\"]\n",
    "            column_dict[\"stdev\"] = [round(data[column].std(), 1) if (data[column].dtypes != object) else \"NA\"]\n",
    "            column_dict[\"IQR\"] = [round(data[column].quantile(.75), 1) - data[column].quantile(.25) if (data[column].dtypes != object) else \"NA\"]\n",
    "            column_dict[\"most_common_value\"] = data[column].mode().iloc[0] if not data[column].mode().empty else \"NA\"\n",
    "            column_dict[\"skewness\"] = [data[column].skew(skipna=True) if (data[column].dtypes != object) else \"NA\"]\n",
    "\n",
    "            # calculate likely outliers\n",
    "            if data[column].dtypes != object:\n",
    "                Q1 = data[column].quantile(0.25)\n",
    "                Q3 = data[column].quantile(0.75)\n",
    "                IQR = Q3 - Q1\n",
    "                lower_bound = Q1 - 1.5 * IQR\n",
    "                upper_bound = Q3 + 1.5 * IQR\n",
    "                outliers = data[(data[column] < lower_bound) | (data[column] > upper_bound)][column]\n",
    "                column_dict[\"outliers\"] = len(outliers)\n",
    "            else:\n",
    "                column_dict[\"outliers\"] = \"NA\"\n",
    "\n",
    "        except:\n",
    "            print(f\"unable to read column: {column}, you may want to drop this column\")\n",
    "\n",
    "        # add the information from the columns dict to the final dataframe\n",
    "        data_profiling_df = pd.concat([data_profiling_df, pd.DataFrame(column_dict)],\n",
    "                                      ignore_index = True)\n",
    "\n",
    "    # sort the final dataframe by unique values descending\n",
    "    data_profiling_df.sort_values(by = ['unique_values'],\n",
    "                                  ascending = [False],\n",
    "                                  inplace=True)\n",
    "\n",
    "    # print the function is complete\n",
    "    print(f\"data profiling complete, dataframe contains {len(data_profiling_df)} columns\")\n",
    "    return data_profiling_df"
   ]
  },
  {
   "cell_type": "code",
   "execution_count": 13,
   "id": "39a22999",
   "metadata": {
    "execution": {
     "iopub.execute_input": "2025-03-13T17:27:11.733181Z",
     "iopub.status.busy": "2025-03-13T17:27:11.732735Z",
     "iopub.status.idle": "2025-03-13T17:27:12.018106Z",
     "shell.execute_reply": "2025-03-13T17:27:12.016860Z"
    },
    "papermill": {
     "duration": 0.300015,
     "end_time": "2025-03-13T17:27:12.019921",
     "exception": false,
     "start_time": "2025-03-13T17:27:11.719906",
     "status": "completed"
    },
    "tags": []
   },
   "outputs": [
    {
     "name": "stderr",
     "output_type": "stream",
     "text": [
      "<ipython-input-12-148ed7339d30>:60: FutureWarning: The behavior of DataFrame concatenation with empty or all-NA entries is deprecated. In a future version, this will no longer exclude empty or all-NA columns when determining the result dtypes. To retain the old behavior, exclude the relevant entries before the concat operation.\n",
      "  data_profiling_df = pd.concat([data_profiling_df, pd.DataFrame(column_dict)],\n"
     ]
    },
    {
     "name": "stdout",
     "output_type": "stream",
     "text": [
      "data profiling complete, dataframe contains 15 columns\n"
     ]
    },
    {
     "data": {
      "text/html": [
       "<div>\n",
       "<style scoped>\n",
       "    .dataframe tbody tr th:only-of-type {\n",
       "        vertical-align: middle;\n",
       "    }\n",
       "\n",
       "    .dataframe tbody tr th {\n",
       "        vertical-align: top;\n",
       "    }\n",
       "\n",
       "    .dataframe thead th {\n",
       "        text-align: right;\n",
       "    }\n",
       "</style>\n",
       "<table border=\"1\" class=\"dataframe\">\n",
       "  <thead>\n",
       "    <tr style=\"text-align: right;\">\n",
       "      <th></th>\n",
       "      <th>column_name</th>\n",
       "      <th>data_type</th>\n",
       "      <th>values</th>\n",
       "      <th>null_values</th>\n",
       "      <th>percent_null</th>\n",
       "      <th>unique_values</th>\n",
       "      <th>duplicate_values</th>\n",
       "      <th>min</th>\n",
       "      <th>max</th>\n",
       "      <th>median</th>\n",
       "      <th>stdev</th>\n",
       "      <th>IQR</th>\n",
       "      <th>skewness</th>\n",
       "      <th>most_common_value</th>\n",
       "      <th>outliers</th>\n",
       "      <th>mean</th>\n",
       "    </tr>\n",
       "  </thead>\n",
       "  <tbody>\n",
       "    <tr>\n",
       "      <th>4</th>\n",
       "      <td>weekly_hours</td>\n",
       "      <td>float64</td>\n",
       "      <td>41000</td>\n",
       "      <td>0</td>\n",
       "      <td>0.0</td>\n",
       "      <td>41000</td>\n",
       "      <td>0</td>\n",
       "      <td>0.000013</td>\n",
       "      <td>31.0</td>\n",
       "      <td>15.4</td>\n",
       "      <td>9.0</td>\n",
       "      <td>15.619053</td>\n",
       "      <td>0.008971</td>\n",
       "      <td>0.000013</td>\n",
       "      <td>0</td>\n",
       "      <td>15.4</td>\n",
       "    </tr>\n",
       "    <tr>\n",
       "      <th>5</th>\n",
       "      <td>average_session_length</td>\n",
       "      <td>float64</td>\n",
       "      <td>41000</td>\n",
       "      <td>0</td>\n",
       "      <td>0.0</td>\n",
       "      <td>41000</td>\n",
       "      <td>0</td>\n",
       "      <td>0.000455</td>\n",
       "      <td>5.1</td>\n",
       "      <td>1.2</td>\n",
       "      <td>1.1</td>\n",
       "      <td>1.389075</td>\n",
       "      <td>0.917565</td>\n",
       "      <td>0.000455</td>\n",
       "      <td>717</td>\n",
       "      <td>1.5</td>\n",
       "    </tr>\n",
       "    <tr>\n",
       "      <th>7</th>\n",
       "      <td>weekly_songs_played</td>\n",
       "      <td>int64</td>\n",
       "      <td>41000</td>\n",
       "      <td>0</td>\n",
       "      <td>0.0</td>\n",
       "      <td>613</td>\n",
       "      <td>40387</td>\n",
       "      <td>0</td>\n",
       "      <td>615</td>\n",
       "      <td>231.0</td>\n",
       "      <td>143.9</td>\n",
       "      <td>234.0</td>\n",
       "      <td>0.223306</td>\n",
       "      <td>8</td>\n",
       "      <td>0</td>\n",
       "      <td>236.2</td>\n",
       "    </tr>\n",
       "    <tr>\n",
       "      <th>8</th>\n",
       "      <td>weekly_unique_songs</td>\n",
       "      <td>int64</td>\n",
       "      <td>41000</td>\n",
       "      <td>0</td>\n",
       "      <td>0.0</td>\n",
       "      <td>554</td>\n",
       "      <td>40446</td>\n",
       "      <td>0</td>\n",
       "      <td>583</td>\n",
       "      <td>153.0</td>\n",
       "      <td>107.1</td>\n",
       "      <td>159.0</td>\n",
       "      <td>0.559891</td>\n",
       "      <td>4</td>\n",
       "      <td>227</td>\n",
       "      <td>163.8</td>\n",
       "    </tr>\n",
       "    <tr>\n",
       "      <th>13</th>\n",
       "      <td>notifications_clicked</td>\n",
       "      <td>int64</td>\n",
       "      <td>41000</td>\n",
       "      <td>0</td>\n",
       "      <td>0.0</td>\n",
       "      <td>418</td>\n",
       "      <td>40582</td>\n",
       "      <td>0</td>\n",
       "      <td>445</td>\n",
       "      <td>49.0</td>\n",
       "      <td>75.6</td>\n",
       "      <td>97.0</td>\n",
       "      <td>1.538503</td>\n",
       "      <td>1</td>\n",
       "      <td>1528</td>\n",
       "      <td>65.4</td>\n",
       "    </tr>\n",
       "    <tr>\n",
       "      <th>10</th>\n",
       "      <td>num_platform_friends</td>\n",
       "      <td>int64</td>\n",
       "      <td>41000</td>\n",
       "      <td>0</td>\n",
       "      <td>0.0</td>\n",
       "      <td>109</td>\n",
       "      <td>40891</td>\n",
       "      <td>10</td>\n",
       "      <td>118</td>\n",
       "      <td>64.0</td>\n",
       "      <td>21.8</td>\n",
       "      <td>34.0</td>\n",
       "      <td>-0.001307</td>\n",
       "      <td>57</td>\n",
       "      <td>0</td>\n",
       "      <td>63.8</td>\n",
       "    </tr>\n",
       "    <tr>\n",
       "      <th>6</th>\n",
       "      <td>song_skip_rate</td>\n",
       "      <td>float64</td>\n",
       "      <td>41000</td>\n",
       "      <td>0</td>\n",
       "      <td>0.0</td>\n",
       "      <td>101</td>\n",
       "      <td>40899</td>\n",
       "      <td>0.0</td>\n",
       "      <td>1.0</td>\n",
       "      <td>0.3</td>\n",
       "      <td>0.3</td>\n",
       "      <td>0.33</td>\n",
       "      <td>0.665077</td>\n",
       "      <td>0.34</td>\n",
       "      <td>106</td>\n",
       "      <td>0.4</td>\n",
       "    </tr>\n",
       "    <tr>\n",
       "      <th>9</th>\n",
       "      <td>num_favorite_artists</td>\n",
       "      <td>int64</td>\n",
       "      <td>41000</td>\n",
       "      <td>0</td>\n",
       "      <td>0.0</td>\n",
       "      <td>72</td>\n",
       "      <td>40928</td>\n",
       "      <td>0</td>\n",
       "      <td>71</td>\n",
       "      <td>28.0</td>\n",
       "      <td>14.7</td>\n",
       "      <td>24.0</td>\n",
       "      <td>0.200533</td>\n",
       "      <td>23</td>\n",
       "      <td>0</td>\n",
       "      <td>28.7</td>\n",
       "    </tr>\n",
       "    <tr>\n",
       "      <th>0</th>\n",
       "      <td>age</td>\n",
       "      <td>int64</td>\n",
       "      <td>41000</td>\n",
       "      <td>0</td>\n",
       "      <td>0.0</td>\n",
       "      <td>69</td>\n",
       "      <td>40931</td>\n",
       "      <td>18</td>\n",
       "      <td>86</td>\n",
       "      <td>52.0</td>\n",
       "      <td>19.9</td>\n",
       "      <td>34.0</td>\n",
       "      <td>-0.004195</td>\n",
       "      <td>81</td>\n",
       "      <td>0</td>\n",
       "      <td>52.0</td>\n",
       "    </tr>\n",
       "    <tr>\n",
       "      <th>12</th>\n",
       "      <td>num_shared_playlists</td>\n",
       "      <td>int64</td>\n",
       "      <td>41000</td>\n",
       "      <td>0</td>\n",
       "      <td>0.0</td>\n",
       "      <td>21</td>\n",
       "      <td>40979</td>\n",
       "      <td>1</td>\n",
       "      <td>21</td>\n",
       "      <td>5.0</td>\n",
       "      <td>4.3</td>\n",
       "      <td>5.0</td>\n",
       "      <td>1.41876</td>\n",
       "      <td>3</td>\n",
       "      <td>2000</td>\n",
       "      <td>6.3</td>\n",
       "    </tr>\n",
       "    <tr>\n",
       "      <th>11</th>\n",
       "      <td>num_playlists_created</td>\n",
       "      <td>int64</td>\n",
       "      <td>41000</td>\n",
       "      <td>0</td>\n",
       "      <td>0.0</td>\n",
       "      <td>19</td>\n",
       "      <td>40981</td>\n",
       "      <td>3</td>\n",
       "      <td>21</td>\n",
       "      <td>11.0</td>\n",
       "      <td>4.3</td>\n",
       "      <td>6.0</td>\n",
       "      <td>0.327203</td>\n",
       "      <td>11</td>\n",
       "      <td>0</td>\n",
       "      <td>11.9</td>\n",
       "    </tr>\n",
       "    <tr>\n",
       "      <th>1</th>\n",
       "      <td>subscription_type</td>\n",
       "      <td>object</td>\n",
       "      <td>41000</td>\n",
       "      <td>0</td>\n",
       "      <td>0.0</td>\n",
       "      <td>4</td>\n",
       "      <td>40996</td>\n",
       "      <td>NA</td>\n",
       "      <td>NA</td>\n",
       "      <td>NA</td>\n",
       "      <td>NA</td>\n",
       "      <td>NA</td>\n",
       "      <td>NA</td>\n",
       "      <td>family premium</td>\n",
       "      <td>NA</td>\n",
       "      <td>NA</td>\n",
       "    </tr>\n",
       "    <tr>\n",
       "      <th>3</th>\n",
       "      <td>customer_service_inquiries</td>\n",
       "      <td>object</td>\n",
       "      <td>41000</td>\n",
       "      <td>0</td>\n",
       "      <td>0.0</td>\n",
       "      <td>4</td>\n",
       "      <td>40996</td>\n",
       "      <td>NA</td>\n",
       "      <td>NA</td>\n",
       "      <td>NA</td>\n",
       "      <td>NA</td>\n",
       "      <td>NA</td>\n",
       "      <td>NA</td>\n",
       "      <td>few</td>\n",
       "      <td>NA</td>\n",
       "      <td>NA</td>\n",
       "    </tr>\n",
       "    <tr>\n",
       "      <th>2</th>\n",
       "      <td>payment_plan</td>\n",
       "      <td>object</td>\n",
       "      <td>41000</td>\n",
       "      <td>0</td>\n",
       "      <td>0.0</td>\n",
       "      <td>2</td>\n",
       "      <td>40998</td>\n",
       "      <td>NA</td>\n",
       "      <td>NA</td>\n",
       "      <td>NA</td>\n",
       "      <td>NA</td>\n",
       "      <td>NA</td>\n",
       "      <td>NA</td>\n",
       "      <td>annual</td>\n",
       "      <td>NA</td>\n",
       "      <td>NA</td>\n",
       "    </tr>\n",
       "    <tr>\n",
       "      <th>14</th>\n",
       "      <td>churned</td>\n",
       "      <td>int64</td>\n",
       "      <td>41000</td>\n",
       "      <td>0</td>\n",
       "      <td>0.0</td>\n",
       "      <td>2</td>\n",
       "      <td>40998</td>\n",
       "      <td>0</td>\n",
       "      <td>1</td>\n",
       "      <td>0.0</td>\n",
       "      <td>0.4</td>\n",
       "      <td>0.0</td>\n",
       "      <td>1.399523</td>\n",
       "      <td>0</td>\n",
       "      <td>8747</td>\n",
       "      <td>0.2</td>\n",
       "    </tr>\n",
       "  </tbody>\n",
       "</table>\n",
       "</div>"
      ],
      "text/plain": [
       "                   column_name data_type values null_values  percent_null  \\\n",
       "4                 weekly_hours   float64  41000           0           0.0   \n",
       "5       average_session_length   float64  41000           0           0.0   \n",
       "7          weekly_songs_played     int64  41000           0           0.0   \n",
       "8          weekly_unique_songs     int64  41000           0           0.0   \n",
       "13       notifications_clicked     int64  41000           0           0.0   \n",
       "10        num_platform_friends     int64  41000           0           0.0   \n",
       "6               song_skip_rate   float64  41000           0           0.0   \n",
       "9         num_favorite_artists     int64  41000           0           0.0   \n",
       "0                          age     int64  41000           0           0.0   \n",
       "12        num_shared_playlists     int64  41000           0           0.0   \n",
       "11       num_playlists_created     int64  41000           0           0.0   \n",
       "1            subscription_type    object  41000           0           0.0   \n",
       "3   customer_service_inquiries    object  41000           0           0.0   \n",
       "2                 payment_plan    object  41000           0           0.0   \n",
       "14                     churned     int64  41000           0           0.0   \n",
       "\n",
       "   unique_values duplicate_values       min   max median  stdev        IQR  \\\n",
       "4          41000                0  0.000013  31.0   15.4    9.0  15.619053   \n",
       "5          41000                0  0.000455   5.1    1.2    1.1   1.389075   \n",
       "7            613            40387         0   615  231.0  143.9      234.0   \n",
       "8            554            40446         0   583  153.0  107.1      159.0   \n",
       "13           418            40582         0   445   49.0   75.6       97.0   \n",
       "10           109            40891        10   118   64.0   21.8       34.0   \n",
       "6            101            40899       0.0   1.0    0.3    0.3       0.33   \n",
       "9             72            40928         0    71   28.0   14.7       24.0   \n",
       "0             69            40931        18    86   52.0   19.9       34.0   \n",
       "12            21            40979         1    21    5.0    4.3        5.0   \n",
       "11            19            40981         3    21   11.0    4.3        6.0   \n",
       "1              4            40996        NA    NA     NA     NA         NA   \n",
       "3              4            40996        NA    NA     NA     NA         NA   \n",
       "2              2            40998        NA    NA     NA     NA         NA   \n",
       "14             2            40998         0     1    0.0    0.4        0.0   \n",
       "\n",
       "    skewness most_common_value outliers   mean  \n",
       "4   0.008971          0.000013        0   15.4  \n",
       "5   0.917565          0.000455      717    1.5  \n",
       "7   0.223306                 8        0  236.2  \n",
       "8   0.559891                 4      227  163.8  \n",
       "13  1.538503                 1     1528   65.4  \n",
       "10 -0.001307                57        0   63.8  \n",
       "6   0.665077              0.34      106    0.4  \n",
       "9   0.200533                23        0   28.7  \n",
       "0  -0.004195                81        0   52.0  \n",
       "12   1.41876                 3     2000    6.3  \n",
       "11  0.327203                11        0   11.9  \n",
       "1         NA    family premium       NA     NA  \n",
       "3         NA               few       NA     NA  \n",
       "2         NA            annual       NA     NA  \n",
       "14  1.399523                 0     8747    0.2  "
      ]
     },
     "execution_count": 13,
     "metadata": {},
     "output_type": "execute_result"
    }
   ],
   "source": [
    "# run the data profiling function\n",
    "data_profiling_df = create_data_profiling_df(data = training_data)\n",
    "\n",
    "# print the dataframe\n",
    "data_profiling_df"
   ]
  },
  {
   "cell_type": "markdown",
   "id": "221fb075",
   "metadata": {
    "papermill": {
     "duration": 0.01179,
     "end_time": "2025-03-13T17:27:12.043944",
     "exception": false,
     "start_time": "2025-03-13T17:27:12.032154",
     "status": "completed"
    },
    "tags": []
   },
   "source": [
    "**4. EDA**"
   ]
  },
  {
   "cell_type": "code",
   "execution_count": 14,
   "id": "72ed3fd5",
   "metadata": {
    "execution": {
     "iopub.execute_input": "2025-03-13T17:27:12.069662Z",
     "iopub.status.busy": "2025-03-13T17:27:12.069311Z",
     "iopub.status.idle": "2025-03-13T17:27:13.944569Z",
     "shell.execute_reply": "2025-03-13T17:27:13.943356Z"
    },
    "papermill": {
     "duration": 1.890589,
     "end_time": "2025-03-13T17:27:13.946651",
     "exception": false,
     "start_time": "2025-03-13T17:27:12.056062",
     "status": "completed"
    },
    "tags": []
   },
   "outputs": [],
   "source": [
    "# import needed libraries\n",
    "import matplotlib.pyplot as plt\n",
    "import seaborn as sns\n",
    "\n",
    "# define function to plot histogram and identify outliers\n",
    "def plot_histogram(df: pd.DataFrame,\n",
    "                   variable: str,\n",
    "                   bins=10,\n",
    "                   color='grey',\n",
    "                   edgecolor='black',\n",
    "                   figsize=(7, 2),\n",
    "                   iqr_on = False):\n",
    "\n",
    "    # set the figure size\n",
    "    plt.figure(figsize=figsize)\n",
    "\n",
    "    # plot the histogram\n",
    "    plt.hist(df[variable],\n",
    "             bins=bins,\n",
    "             color=color,\n",
    "             edgecolor=edgecolor)\n",
    "\n",
    "    # customize the plot labels and colors\n",
    "    plt.title(f'{variable} Histogram')\n",
    "    plt.xlabel(f'{variable}')\n",
    "    plt.ylabel('Frequency')\n",
    "    plt.xticks(rotation=45, ha='right')\n",
    "    plt.ticklabel_format(style='plain', axis='x')\n",
    "    plt.grid(True)\n",
    "\n",
    "    # define the Inter Quartile Range (iqr) and outlier bounds\n",
    "    q1 = df[variable].quantile(0.25)\n",
    "    q3 = df[variable].quantile(0.75)\n",
    "    iqr = q3 - q1\n",
    "    if iqr_on == True:\n",
    "      lower_bound = q1\n",
    "      upper_bound = q3\n",
    "    else:\n",
    "      lower_bound = q1 - 1.5 * iqr\n",
    "      upper_bound = q3 + 1.5 * iqr\n",
    "\n",
    "    # mark the outlier boundson the histogram\n",
    "    plt.axvline(lower_bound, color='blue', linestyle='dashed', linewidth=2, label='Lower Bound')\n",
    "    plt.axvline(upper_bound, color='blue', linestyle='dashed', linewidth=2, label='Upper Bound')\n",
    "\n",
    "    # Show the plot\n",
    "    plt.legend()\n",
    "    plt.show()\n",
    "\n",
    "    # count the outliers\n",
    "    num_outliers = ((df[variable] < lower_bound) | (df[variable] > upper_bound)).sum()\n",
    "\n",
    "    # print information about outliers\n",
    "    if num_outliers > 0:\n",
    "        print(f\"{num_outliers} potential outliers detected in {variable} distribution\")\n",
    "        print(f\"Lower Bound: {lower_bound}, Upper Bound: {upper_bound}\")\n",
    "    else:\n",
    "        print(f\"no potential outliers detected in {variable} distribution\")\n",
    "        print(f\"Lower Bound: {lower_bound}, Upper Bound: {upper_bound}\")\n",
    "\n",
    "    # print a new line\n",
    "    print(\"\"\"\n",
    "          -----\n",
    "          \"\"\")\n"
   ]
  },
  {
   "cell_type": "code",
   "execution_count": 15,
   "id": "7ba5037c",
   "metadata": {
    "execution": {
     "iopub.execute_input": "2025-03-13T17:27:13.972617Z",
     "iopub.status.busy": "2025-03-13T17:27:13.972060Z",
     "iopub.status.idle": "2025-03-13T17:27:14.243769Z",
     "shell.execute_reply": "2025-03-13T17:27:14.242604Z"
    },
    "papermill": {
     "duration": 0.286525,
     "end_time": "2025-03-13T17:27:14.245533",
     "exception": false,
     "start_time": "2025-03-13T17:27:13.959008",
     "status": "completed"
    },
    "tags": []
   },
   "outputs": [
    {
     "data": {
      "image/png": "[encoded data removed]",
      "text/plain": [
       "<Figure size 640x480 with 1 Axes>"
      ]
     },
     "metadata": {},
     "output_type": "display_data"
    }
   ],
   "source": [
    "# Exploratory Data Analysis (EDA)\n",
    "sns.countplot(x='churned', data=training_data)\n",
    "plt.title(\"Target Variable Distribution\")\n",
    "plt.show()"
   ]
  },
  {
   "cell_type": "code",
   "execution_count": 16,
   "id": "884b2550",
   "metadata": {
    "execution": {
     "iopub.execute_input": "2025-03-13T17:27:14.272040Z",
     "iopub.status.busy": "2025-03-13T17:27:14.271663Z",
     "iopub.status.idle": "2025-03-13T17:27:17.105057Z",
     "shell.execute_reply": "2025-03-13T17:27:17.103849Z"
    },
    "papermill": {
     "duration": 2.84878,
     "end_time": "2025-03-13T17:27:17.107074",
     "exception": false,
     "start_time": "2025-03-13T17:27:14.258294",
     "status": "completed"
    },
    "tags": []
   },
   "outputs": [
    {
     "data": {
      "image/png": "[encoded data removed]",
      "text/plain": [
       "<Figure size 700x200 with 1 Axes>"
      ]
     },
     "metadata": {},
     "output_type": "display_data"
    },
    {
     "name": "stdout",
     "output_type": "stream",
     "text": [
      "no potential outliers detected in age distribution\n",
      "Lower Bound: -16.0, Upper Bound: 120.0\n",
      "\n",
      "          -----\n",
      "          \n"
     ]
    },
    {
     "data": {
      "image/png": "[encoded data removed]",
      "text/plain": [
       "<Figure size 700x200 with 1 Axes>"
      ]
     },
     "metadata": {},
     "output_type": "display_data"
    },
    {
     "name": "stdout",
     "output_type": "stream",
     "text": [
      "no potential outliers detected in weekly_hours distribution\n",
      "Lower Bound: -15.908200463124995, Upper Bound: 46.72952588587499\n",
      "\n",
      "          -----\n",
      "          \n"
     ]
    },
    {
     "data": {
      "image/png": "[encoded data removed]",
      "text/plain": [
       "<Figure size 700x200 with 1 Axes>"
      ]
     },
     "metadata": {},
     "output_type": "display_data"
    },
    {
     "name": "stdout",
     "output_type": "stream",
     "text": [
      "717 potential outliers detected in average_session_length distribution\n",
      "Lower Bound: -1.4312513930000001, Upper Bound: 4.281220145000001\n",
      "\n",
      "          -----\n",
      "          \n"
     ]
    },
    {
     "data": {
      "image/png": "[encoded data removed]",
      "text/plain": [
       "<Figure size 700x200 with 1 Axes>"
      ]
     },
     "metadata": {},
     "output_type": "display_data"
    },
    {
     "name": "stdout",
     "output_type": "stream",
     "text": [
      "106 potential outliers detected in song_skip_rate distribution\n",
      "Lower Bound: -0.32499999999999996, Upper Bound: 0.9949999999999999\n",
      "\n",
      "          -----\n",
      "          \n"
     ]
    },
    {
     "data": {
      "image/png": "[encoded data removed]",
      "text/plain": [
       "<Figure size 700x200 with 1 Axes>"
      ]
     },
     "metadata": {},
     "output_type": "display_data"
    },
    {
     "name": "stdout",
     "output_type": "stream",
     "text": [
      "no potential outliers detected in weekly_songs_played distribution\n",
      "Lower Bound: -237.0, Upper Bound: 699.0\n",
      "\n",
      "          -----\n",
      "          \n"
     ]
    },
    {
     "data": {
      "image/png": "[encoded data removed]",
      "text/plain": [
       "<Figure size 700x200 with 1 Axes>"
      ]
     },
     "metadata": {},
     "output_type": "display_data"
    },
    {
     "name": "stdout",
     "output_type": "stream",
     "text": [
      "227 potential outliers detected in weekly_unique_songs distribution\n",
      "Lower Bound: -162.5, Upper Bound: 473.5\n",
      "\n",
      "          -----\n",
      "          \n"
     ]
    },
    {
     "data": {
      "image/png": "[encoded data removed]",
      "text/plain": [
       "<Figure size 700x200 with 1 Axes>"
      ]
     },
     "metadata": {},
     "output_type": "display_data"
    },
    {
     "name": "stdout",
     "output_type": "stream",
     "text": [
      "no potential outliers detected in num_favorite_artists distribution\n",
      "Lower Bound: -20.0, Upper Bound: 76.0\n",
      "\n",
      "          -----\n",
      "          \n"
     ]
    },
    {
     "data": {
      "image/png": "[encoded data removed]",
      "text/plain": [
       "<Figure size 700x200 with 1 Axes>"
      ]
     },
     "metadata": {},
     "output_type": "display_data"
    },
    {
     "name": "stdout",
     "output_type": "stream",
     "text": [
      "no potential outliers detected in num_platform_friends distribution\n",
      "Lower Bound: -4.0, Upper Bound: 132.0\n",
      "\n",
      "          -----\n",
      "          \n"
     ]
    },
    {
     "data": {
      "image/png": "[encoded data removed]",
      "text/plain": [
       "<Figure size 700x200 with 1 Axes>"
      ]
     },
     "metadata": {},
     "output_type": "display_data"
    },
    {
     "name": "stdout",
     "output_type": "stream",
     "text": [
      "no potential outliers detected in num_playlists_created distribution\n",
      "Lower Bound: 0.0, Upper Bound: 24.0\n",
      "\n",
      "          -----\n",
      "          \n"
     ]
    },
    {
     "data": {
      "image/png": "[encoded data removed]",
      "text/plain": [
       "<Figure size 700x200 with 1 Axes>"
      ]
     },
     "metadata": {},
     "output_type": "display_data"
    },
    {
     "name": "stdout",
     "output_type": "stream",
     "text": [
      "2000 potential outliers detected in num_shared_playlists distribution\n",
      "Lower Bound: -4.5, Upper Bound: 15.5\n",
      "\n",
      "          -----\n",
      "          \n"
     ]
    },
    {
     "data": {
      "image/png": "[encoded data removed]",
      "text/plain": [
       "<Figure size 700x200 with 1 Axes>"
      ]
     },
     "metadata": {},
     "output_type": "display_data"
    },
    {
     "name": "stdout",
     "output_type": "stream",
     "text": [
      "1528 potential outliers detected in notifications_clicked distribution\n",
      "Lower Bound: -144.5, Upper Bound: 243.5\n",
      "\n",
      "          -----\n",
      "          \n"
     ]
    }
   ],
   "source": [
    "# Run the histogram function on appropriate numerical features\n",
    "# List of numerical features from your dataset\n",
    "numerical_features = [\n",
    "    \"age\", \"weekly_hours\", \"average_session_length\", \"song_skip_rate\", \n",
    "    \"weekly_songs_played\", \"weekly_unique_songs\", \"num_favorite_artists\", \n",
    "    \"num_platform_friends\", \"num_playlists_created\", \"num_shared_playlists\", \n",
    "    \"notifications_clicked\"\n",
    "]\n",
    "for feature in numerical_features:\n",
    "    plot_histogram(df=training_data, variable=feature, bins=15)"
   ]
  },
  {
   "cell_type": "code",
   "execution_count": 17,
   "id": "fc66d346",
   "metadata": {
    "execution": {
     "iopub.execute_input": "2025-03-13T17:27:17.155662Z",
     "iopub.status.busy": "2025-03-13T17:27:17.155285Z",
     "iopub.status.idle": "2025-03-13T17:27:17.161310Z",
     "shell.execute_reply": "2025-03-13T17:27:17.159899Z"
    },
    "papermill": {
     "duration": 0.033026,
     "end_time": "2025-03-13T17:27:17.163408",
     "exception": false,
     "start_time": "2025-03-13T17:27:17.130382",
     "status": "completed"
    },
    "tags": []
   },
   "outputs": [],
   "source": [
    "# create a function to make a bar chart of the count of categorical variables\n",
    "def count_plot(df: pd.DataFrame,\n",
    "               variable: str):\n",
    "\n",
    "    plt.figure(figsize=(10, 5))\n",
    "    sns.countplot(data = df,\n",
    "                  x = f\"{variable}\",\n",
    "                  color = \"grey\")\n",
    "    plt.title(f'Count of {variable}')\n",
    "    plt.xlabel(f'{variable}')\n",
    "    plt.ylabel('count')\n",
    "    plt.show()\n",
    "    print(\"\"\"\n",
    "    -----\n",
    "    \"\"\")"
   ]
  },
  {
   "cell_type": "code",
   "execution_count": 18,
   "id": "6a16f626",
   "metadata": {
    "execution": {
     "iopub.execute_input": "2025-03-13T17:27:17.212737Z",
     "iopub.status.busy": "2025-03-13T17:27:17.212373Z",
     "iopub.status.idle": "2025-03-13T17:27:17.604420Z",
     "shell.execute_reply": "2025-03-13T17:27:17.603251Z"
    },
    "papermill": {
     "duration": 0.417386,
     "end_time": "2025-03-13T17:27:17.605912",
     "exception": false,
     "start_time": "2025-03-13T17:27:17.188526",
     "status": "completed"
    },
    "tags": []
   },
   "outputs": [
    {
     "data": {
      "image/png": "[encoded data removed]",
      "text/plain": [
       "<Figure size 1000x500 with 1 Axes>"
      ]
     },
     "metadata": {},
     "output_type": "display_data"
    },
    {
     "name": "stdout",
     "output_type": "stream",
     "text": [
      "\n",
      "    -----\n",
      "    \n"
     ]
    },
    {
     "data": {
      "image/png": "[encoded data removed]",
      "text/plain": [
       "<Figure size 1000x500 with 1 Axes>"
      ]
     },
     "metadata": {},
     "output_type": "display_data"
    },
    {
     "name": "stdout",
     "output_type": "stream",
     "text": [
      "\n",
      "    -----\n",
      "    \n"
     ]
    }
   ],
   "source": [
    "# Updated list of categorical features (excluding dropped columns)\n",
    "categorical_features = [\"subscription_type\", \"payment_plan\"]\n",
    "\n",
    "# Generate count plots for remaining categorical features\n",
    "for feature in categorical_features:\n",
    "    count_plot(df=training_data, variable=feature)\n"
   ]
  },
  {
   "cell_type": "markdown",
   "id": "1924553e",
   "metadata": {
    "papermill": {
     "duration": 0.024163,
     "end_time": "2025-03-13T17:27:17.654659",
     "exception": false,
     "start_time": "2025-03-13T17:27:17.630496",
     "status": "completed"
    },
    "tags": []
   },
   "source": [
    "**5. Set up Data Transformation**"
   ]
  },
  {
   "cell_type": "code",
   "execution_count": 19,
   "id": "4e83f8d1",
   "metadata": {
    "execution": {
     "iopub.execute_input": "2025-03-13T17:27:17.707003Z",
     "iopub.status.busy": "2025-03-13T17:27:17.706558Z",
     "iopub.status.idle": "2025-03-13T17:27:18.742456Z",
     "shell.execute_reply": "2025-03-13T17:27:18.740836Z"
    },
    "papermill": {
     "duration": 1.064254,
     "end_time": "2025-03-13T17:27:18.744325",
     "exception": false,
     "start_time": "2025-03-13T17:27:17.680071",
     "status": "completed"
    },
    "tags": []
   },
   "outputs": [
    {
     "name": "stdout",
     "output_type": "stream",
     "text": [
      "   age  weekly_hours  average_session_length  song_skip_rate  \\\n",
      "0   72      0.848891                0.684739        0.056584   \n",
      "1   48      0.625060                0.361439        0.985500   \n",
      "2   76      0.678884                0.520111        0.432959   \n",
      "3   80      0.649534                0.407103        0.757023   \n",
      "4   39      0.990598                0.661860        0.815575   \n",
      "\n",
      "   weekly_songs_played  weekly_unique_songs  num_favorite_artists  \\\n",
      "0             0.857095             0.788691              0.837923   \n",
      "1             0.735981             0.637442              0.688489   \n",
      "2             0.751694             0.718176              0.648306   \n",
      "3             0.758993             0.737920              0.617083   \n",
      "4             0.964690             0.892256              0.937023   \n",
      "\n",
      "   num_platform_friends  num_playlists_created  num_shared_playlists  \\\n",
      "0              0.698189               0.775338              0.578130   \n",
      "1              0.732916               0.593402              0.289065   \n",
      "2              0.486074               0.882287              0.522443   \n",
      "3              0.572522               0.475689              0.382123   \n",
      "4              0.887342               0.775338              0.458157   \n",
      "\n",
      "   notifications_clicked  churned  subscription_type_family premium  \\\n",
      "0               0.000000        0                              True   \n",
      "1               0.113625        0                              True   \n",
      "2               0.113625        0                              True   \n",
      "3               0.000000        0                              True   \n",
      "4               0.000000        0                              True   \n",
      "\n",
      "   subscription_type_premium  subscription_type_student  payment_plan_monthly  \\\n",
      "0                      False                      False                  True   \n",
      "1                      False                      False                 False   \n",
      "2                      False                      False                 False   \n",
      "3                      False                      False                 False   \n",
      "4                      False                      False                 False   \n",
      "\n",
      "   customer_service_inquiries_many  customer_service_inquiries_none  \\\n",
      "0                             True                            False   \n",
      "1                            False                             True   \n",
      "2                            False                            False   \n",
      "3                            False                            False   \n",
      "4                             True                            False   \n",
      "\n",
      "   customer_service_inquiries_some  \n",
      "0                            False  \n",
      "1                            False  \n",
      "2                            False  \n",
      "3                            False  \n",
      "4                            False  \n"
     ]
    }
   ],
   "source": [
    "import numpy as np\n",
    "import pandas as pd\n",
    "\n",
    "# Function to log transform any column\n",
    "def log_transform_column(df: pd.DataFrame, column: str) -> pd.DataFrame:\n",
    "    \"\"\"\n",
    "    Log transform a column (if not null) with a log(x+1) transformation.\n",
    "    \"\"\"\n",
    "    df = df.copy()\n",
    "    df[column] = df[column].apply(lambda x: np.log(x + 1) if pd.notnull(x) and x > 0 else x)\n",
    "    return df\n",
    "\n",
    "# Function to normalize a numerical column (e.g., for feature scaling)\n",
    "def normalize_column(df: pd.DataFrame, column: str) -> pd.DataFrame:\n",
    "    \"\"\"\n",
    "    Normalize a column using min-max scaling.\n",
    "    \"\"\"\n",
    "    df = df.copy()\n",
    "    min_val = df[column].min()\n",
    "    max_val = df[column].max()\n",
    "    df[column] = (df[column] - min_val) / (max_val - min_val)\n",
    "    return df\n",
    "\n",
    "# Function to encode categorical columns using one-hot encoding\n",
    "def one_hot_encode_column(df: pd.DataFrame, column: str) -> pd.DataFrame:\n",
    "    \"\"\"\n",
    "    Apply one-hot encoding to categorical columns.\n",
    "    \"\"\"\n",
    "    df = df.copy()\n",
    "    df = pd.get_dummies(df, columns=[column], drop_first=True)  # drop_first=True avoids multicollinearity\n",
    "    return df\n",
    "\n",
    "# Apply transformations to your dataset\n",
    "\n",
    "# Log transform columns that may benefit from it (numerical features with a wide range or skewed distribution)\n",
    "columns_to_log_transform = [\n",
    "    'weekly_hours', 'average_session_length', 'song_skip_rate', \n",
    "    'weekly_songs_played', 'weekly_unique_songs', 'num_favorite_artists', \n",
    "    'num_platform_friends', 'num_playlists_created', 'num_shared_playlists', \n",
    "    'notifications_clicked'\n",
    "]\n",
    "for column in columns_to_log_transform:\n",
    "    training_data = log_transform_column(training_data, column)\n",
    "\n",
    "# Normalize numerical columns (for scaling)\n",
    "columns_to_normalize = columns_to_log_transform  # Same columns as log transformation\n",
    "for column in columns_to_normalize:\n",
    "    training_data = normalize_column(training_data, column)\n",
    "\n",
    "# One-hot encode categorical columns (after dropping unnecessary ones)\n",
    "categorical_columns = ['subscription_type', 'payment_plan', 'customer_service_inquiries']\n",
    "for column in categorical_columns:\n",
    "    training_data = one_hot_encode_column(training_data, column)\n",
    "\n",
    "# Ensure the target column 'churned' is treated properly for classification (binary target)\n",
    "training_data['churned'] = training_data['churned'].astype(int)  # Ensure it's an integer column for classification\n",
    "\n",
    "# Print first few rows to check\n",
    "print(training_data.head(5))\n"
   ]
  },
  {
   "cell_type": "markdown",
   "id": "0803b726",
   "metadata": {
    "papermill": {
     "duration": 0.023764,
     "end_time": "2025-03-13T17:27:18.793464",
     "exception": false,
     "start_time": "2025-03-13T17:27:18.769700",
     "status": "completed"
    },
    "tags": []
   },
   "source": [
    "**6. Feature Engineering**"
   ]
  },
  {
   "cell_type": "code",
   "execution_count": 20,
   "id": "7da649cc",
   "metadata": {
    "execution": {
     "iopub.execute_input": "2025-03-13T17:27:18.843596Z",
     "iopub.status.busy": "2025-03-13T17:27:18.843142Z",
     "iopub.status.idle": "2025-03-13T17:27:18.850192Z",
     "shell.execute_reply": "2025-03-13T17:27:18.848555Z"
    },
    "papermill": {
     "duration": 0.034608,
     "end_time": "2025-03-13T17:27:18.852257",
     "exception": false,
     "start_time": "2025-03-13T17:27:18.817649",
     "status": "completed"
    },
    "tags": []
   },
   "outputs": [],
   "source": [
    "plotting_df = training_data.copy()"
   ]
  },
  {
   "cell_type": "code",
   "execution_count": 21,
   "id": "b381f462",
   "metadata": {
    "execution": {
     "iopub.execute_input": "2025-03-13T17:27:18.904834Z",
     "iopub.status.busy": "2025-03-13T17:27:18.904424Z",
     "iopub.status.idle": "2025-03-13T17:27:18.913943Z",
     "shell.execute_reply": "2025-03-13T17:27:18.912537Z"
    },
    "papermill": {
     "duration": 0.03818,
     "end_time": "2025-03-13T17:27:18.916008",
     "exception": false,
     "start_time": "2025-03-13T17:27:18.877828",
     "status": "completed"
    },
    "tags": []
   },
   "outputs": [],
   "source": [
    "import pandas as pd\n",
    "import seaborn as sns\n",
    "import matplotlib.pyplot as plt\n",
    "\n",
    "# Function to plot the influence of a new feature on churn rate\n",
    "def plot_new_feature(df: pd.DataFrame, new_feature_name: str, legend_loc='upper right'):\n",
    "    \"\"\"\n",
    "    Plot the influence of a new feature on the churn rate (target column: 'churned').\n",
    "\n",
    "    Parameters:\n",
    "    - df (pd.DataFrame): The dataframe containing the data.\n",
    "    - new_feature_name (str): The name of the new feature to analyze.\n",
    "    - legend_loc (str): Location of the legend on the plot (default is 'upper right').\n",
    "    \"\"\"\n",
    "    # Copy the original dataframe to avoid modifying the original data\n",
    "    plot_df = df.copy()\n",
    "\n",
    "    # Ensure the target column 'churned' is present and binary\n",
    "    if 'churned' not in plot_df.columns:\n",
    "        raise ValueError(\"The target column 'churned' is not present in the dataframe.\")\n",
    "\n",
    "    # Calculate the churn rate (mean of 'churned') for each unique value of the new feature\n",
    "    feature_churn_rate = plot_df.groupby(new_feature_name)['churned'].mean().reset_index()\n",
    "\n",
    "    # Sort by churn rate (highest first)\n",
    "    feature_churn_rate = feature_churn_rate.sort_values(by='churned', ascending=False)\n",
    "\n",
    "    # Calculate the overall average churn rate\n",
    "    average_churn_rate = plot_df['churned'].mean()\n",
    "\n",
    "    # Plot the data using seaborn barplot\n",
    "    plt.figure(figsize=(12, 6))\n",
    "    sns.barplot(x=new_feature_name, y='churned', data=feature_churn_rate, color='grey', \n",
    "                order=feature_churn_rate[new_feature_name])\n",
    "\n",
    "    # Add a horizontal line for the overall average churn rate\n",
    "    plt.axhline(average_churn_rate, color='blue', linestyle='--', \n",
    "                label=f'Average Churn Rate ({average_churn_rate:.2f})')\n",
    "\n",
    "    # Set labels and title\n",
    "    plt.xlabel(new_feature_name)\n",
    "    plt.ylabel('Churn Rate')\n",
    "    plt.title(f'Churn Rate by {new_feature_name}')\n",
    "\n",
    "    # Add the legend with the specified location\n",
    "    plt.legend(loc=legend_loc)\n",
    "    \n",
    "    # Display the plot\n",
    "    plt.tight_layout()  # Ensures proper spacing of labels\n",
    "    plt.show()\n"
   ]
  },
  {
   "cell_type": "code",
   "execution_count": 22,
   "id": "1b63deb1",
   "metadata": {
    "execution": {
     "iopub.execute_input": "2025-03-13T17:27:18.969270Z",
     "iopub.status.busy": "2025-03-13T17:27:18.968905Z",
     "iopub.status.idle": "2025-03-13T17:27:19.838446Z",
     "shell.execute_reply": "2025-03-13T17:27:19.837145Z"
    },
    "papermill": {
     "duration": 0.898472,
     "end_time": "2025-03-13T17:27:19.840398",
     "exception": false,
     "start_time": "2025-03-13T17:27:18.941926",
     "status": "completed"
    },
    "tags": []
   },
   "outputs": [
    {
     "data": {
      "image/png": "[encoded data removed]",
      "text/plain": [
       "<Figure size 1200x600 with 1 Axes>"
      ]
     },
     "metadata": {},
     "output_type": "display_data"
    }
   ],
   "source": [
    "# Creating new feature: Playlist Engagement Score\n",
    "plotting_df['PlaylistEngagementScore'] = plotting_df['num_shared_playlists'] / (plotting_df['num_playlists_created'] + 1)  # +1 to avoid division by 0\n",
    "plotting_df['PlaylistEngagementScore'] = plotting_df['PlaylistEngagementScore'].fillna(0)  # Fills NaN with 0\n",
    "\n",
    "plot_new_feature(df=plotting_df, new_feature_name='PlaylistEngagementScore')\n"
   ]
  },
  {
   "cell_type": "code",
   "execution_count": 23,
   "id": "bfbe7563",
   "metadata": {
    "execution": {
     "iopub.execute_input": "2025-03-13T17:27:19.893905Z",
     "iopub.status.busy": "2025-03-13T17:27:19.893463Z",
     "iopub.status.idle": "2025-03-13T17:27:19.924568Z",
     "shell.execute_reply": "2025-03-13T17:27:19.922959Z"
    },
    "papermill": {
     "duration": 0.060563,
     "end_time": "2025-03-13T17:27:19.926981",
     "exception": false,
     "start_time": "2025-03-13T17:27:19.866418",
     "status": "completed"
    },
    "tags": []
   },
   "outputs": [],
   "source": [
    "import pandas as pd\n",
    "\n",
    "def categorize_playlist_engagement(df: pd.DataFrame) -> pd.DataFrame:\n",
    "    df = df.copy()\n",
    "\n",
    "    # Ensure Playlist Engagement Score is numeric, handling missing values\n",
    "    df[\"PlaylistEngagementScore\"] = pd.to_numeric(df[\"PlaylistEngagementScore\"], errors='coerce')\n",
    "\n",
    "    # Fill missing values with \"Missing Score\"\n",
    "    df['PlaylistEngagement'] = df[\"PlaylistEngagementScore\"].fillna(\"Missing Score\")\n",
    "\n",
    "    # Define function to categorize Playlist Engagement Score\n",
    "    def categorize(score):\n",
    "        if isinstance(score, str):  # Handles cases where it's 'Missing Score'\n",
    "            return score\n",
    "        elif score < 0.2:\n",
    "            return 'Low'\n",
    "        elif 0.2 <= score <= 0.5:\n",
    "            return 'Moderate'\n",
    "        else:\n",
    "            return 'High'\n",
    "\n",
    "    # Apply categorization function\n",
    "    df['PlaylistEngagementCategory'] = df['PlaylistEngagement'].apply(categorize)\n",
    "\n",
    "    return df\n",
    "\n",
    "# Apply the function to the dataset\n",
    "plotting_df = categorize_playlist_engagement(plotting_df)\n",
    "\n"
   ]
  },
  {
   "cell_type": "code",
   "execution_count": 24,
   "id": "cbabb822",
   "metadata": {
    "execution": {
     "iopub.execute_input": "2025-03-13T17:27:19.980953Z",
     "iopub.status.busy": "2025-03-13T17:27:19.980523Z",
     "iopub.status.idle": "2025-03-13T17:27:20.230714Z",
     "shell.execute_reply": "2025-03-13T17:27:20.229507Z"
    },
    "papermill": {
     "duration": 0.278366,
     "end_time": "2025-03-13T17:27:20.232424",
     "exception": false,
     "start_time": "2025-03-13T17:27:19.954058",
     "status": "completed"
    },
    "tags": []
   },
   "outputs": [
    {
     "data": {
      "image/png": "[encoded data removed]",
      "text/plain": [
       "<Figure size 1200x600 with 1 Axes>"
      ]
     },
     "metadata": {},
     "output_type": "display_data"
    }
   ],
   "source": [
    "plot_new_feature(df = plotting_df,\n",
    "                 new_feature_name = 'PlaylistEngagementCategory')"
   ]
  },
  {
   "cell_type": "code",
   "execution_count": 25,
   "id": "59979ee4",
   "metadata": {
    "execution": {
     "iopub.execute_input": "2025-03-13T17:27:20.289509Z",
     "iopub.status.busy": "2025-03-13T17:27:20.289037Z",
     "iopub.status.idle": "2025-03-13T17:27:20.343380Z",
     "shell.execute_reply": "2025-03-13T17:27:20.342145Z"
    },
    "papermill": {
     "duration": 0.085105,
     "end_time": "2025-03-13T17:27:20.345235",
     "exception": false,
     "start_time": "2025-03-13T17:27:20.260130",
     "status": "completed"
    },
    "tags": []
   },
   "outputs": [
    {
     "name": "stdout",
     "output_type": "stream",
     "text": [
      "       PlaylistEngagementScore PlaylistEngagementCategory\n",
      "3096                  0.114585                        Low\n",
      "23696                 0.258067                   Moderate\n",
      "1036                  0.490523                   Moderate\n",
      "9440                  0.297990                   Moderate\n",
      "22142                 0.217625                   Moderate\n"
     ]
    }
   ],
   "source": [
    "import pandas as pd\n",
    "\n",
    "def create_playlist_engagement_score(df: pd.DataFrame) -> pd.DataFrame:\n",
    "    \"\"\"Creates the Playlist Engagement Score feature.\"\"\"\n",
    "    df = df.copy()\n",
    "    if 'num_playlists_created' in df.columns and 'num_shared_playlists' in df.columns:\n",
    "        df[\"PlaylistEngagementScore\"] = df[\"num_shared_playlists\"] / (df[\"num_playlists_created\"] + 1)  # Avoid division by 0\n",
    "        df[\"PlaylistEngagementScore\"] = df[\"PlaylistEngagementScore\"].fillna(0)  # Fill missing values with 0\n",
    "    else:\n",
    "        print(\"Error: 'num_playlists_created' or 'num_shared_playlists' columns not found in dataframe.\")\n",
    "    return df\n",
    "\n",
    "def categorize_playlist_engagement(df: pd.DataFrame) -> pd.DataFrame:\n",
    "    \"\"\"Categorizes Playlist Engagement Score into Low, Moderate, and High.\"\"\"\n",
    "    df = df.copy()\n",
    "    \n",
    "    if 'PlaylistEngagementScore' in df.columns:\n",
    "        # Ensure Playlist Engagement Score is numeric\n",
    "        df[\"PlaylistEngagementScore\"] = pd.to_numeric(df[\"PlaylistEngagementScore\"], errors=\"coerce\")\n",
    "\n",
    "        # Define function to categorize\n",
    "        def categorize(score):\n",
    "            if pd.isna(score):\n",
    "                return \"Missing Score\"\n",
    "            elif score < 0.2:\n",
    "                return \"Low\"\n",
    "            elif 0.2 <= score <= 0.5:\n",
    "                return \"Moderate\"\n",
    "            else:\n",
    "                return \"High\"\n",
    "\n",
    "        df[\"PlaylistEngagementCategory\"] = df[\"PlaylistEngagementScore\"].apply(categorize)\n",
    "    else:\n",
    "        print(\"Error: 'PlaylistEngagementScore' column not found in dataframe.\")\n",
    "    \n",
    "    return df\n",
    "\n",
    "def feature_engineering(df: pd.DataFrame) -> pd.DataFrame:\n",
    "    \"\"\"Applies all feature engineering steps to the dataset.\"\"\"\n",
    "    new_df = df.copy()\n",
    "    \n",
    "    # Apply transformations\n",
    "    new_df = create_playlist_engagement_score(new_df)  # Ensure feature exists\n",
    "    new_df = categorize_playlist_engagement(new_df)  # Then categorize it\n",
    "    \n",
    "    return new_df\n",
    "\n",
    "# Run feature engineering\n",
    "training_data_new = feature_engineering(df = training_data)\n",
    "\n",
    "# Check sample\n",
    "print(training_data_new[[\"PlaylistEngagementScore\", \"PlaylistEngagementCategory\"]].sample(5))\n"
   ]
  },
  {
   "cell_type": "markdown",
   "id": "446e11ab",
   "metadata": {
    "papermill": {
     "duration": 0.026421,
     "end_time": "2025-03-13T17:27:20.398655",
     "exception": false,
     "start_time": "2025-03-13T17:27:20.372234",
     "status": "completed"
    },
    "tags": []
   },
   "source": [
    "**7. Feature Selection (Filtering Method)**"
   ]
  },
  {
   "cell_type": "code",
   "execution_count": 26,
   "id": "20f2ccef",
   "metadata": {
    "execution": {
     "iopub.execute_input": "2025-03-13T17:27:20.454084Z",
     "iopub.status.busy": "2025-03-13T17:27:20.453696Z",
     "iopub.status.idle": "2025-03-13T17:27:20.469868Z",
     "shell.execute_reply": "2025-03-13T17:27:20.468511Z"
    },
    "papermill": {
     "duration": 0.046388,
     "end_time": "2025-03-13T17:27:20.471993",
     "exception": false,
     "start_time": "2025-03-13T17:27:20.425605",
     "status": "completed"
    },
    "tags": []
   },
   "outputs": [
    {
     "name": "stdout",
     "output_type": "stream",
     "text": [
      "<class 'pandas.core.frame.DataFrame'>\n",
      "RangeIndex: 41000 entries, 0 to 40999\n",
      "Data columns (total 21 columns):\n",
      " #   Column                            Non-Null Count  Dtype  \n",
      "---  ------                            --------------  -----  \n",
      " 0   age                               41000 non-null  int64  \n",
      " 1   weekly_hours                      41000 non-null  float64\n",
      " 2   average_session_length            41000 non-null  float64\n",
      " 3   song_skip_rate                    41000 non-null  float64\n",
      " 4   weekly_songs_played               41000 non-null  float64\n",
      " 5   weekly_unique_songs               41000 non-null  float64\n",
      " 6   num_favorite_artists              41000 non-null  float64\n",
      " 7   num_platform_friends              41000 non-null  float64\n",
      " 8   num_playlists_created             41000 non-null  float64\n",
      " 9   num_shared_playlists              41000 non-null  float64\n",
      " 10  notifications_clicked             41000 non-null  float64\n",
      " 11  churned                           41000 non-null  int64  \n",
      " 12  subscription_type_family premium  41000 non-null  bool   \n",
      " 13  subscription_type_premium         41000 non-null  bool   \n",
      " 14  subscription_type_student         41000 non-null  bool   \n",
      " 15  payment_plan_monthly              41000 non-null  bool   \n",
      " 16  customer_service_inquiries_many   41000 non-null  bool   \n",
      " 17  customer_service_inquiries_none   41000 non-null  bool   \n",
      " 18  customer_service_inquiries_some   41000 non-null  bool   \n",
      " 19  PlaylistEngagementScore           41000 non-null  float64\n",
      " 20  PlaylistEngagementCategory        41000 non-null  object \n",
      "dtypes: bool(7), float64(11), int64(2), object(1)\n",
      "memory usage: 4.7+ MB\n"
     ]
    }
   ],
   "source": [
    "training_data_new.info()"
   ]
  },
  {
   "cell_type": "code",
   "execution_count": 27,
   "id": "029ed5fd",
   "metadata": {
    "execution": {
     "iopub.execute_input": "2025-03-13T17:27:20.529968Z",
     "iopub.status.busy": "2025-03-13T17:27:20.529515Z",
     "iopub.status.idle": "2025-03-13T17:27:20.542783Z",
     "shell.execute_reply": "2025-03-13T17:27:20.541741Z"
    },
    "papermill": {
     "duration": 0.043694,
     "end_time": "2025-03-13T17:27:20.544706",
     "exception": false,
     "start_time": "2025-03-13T17:27:20.501012",
     "status": "completed"
    },
    "tags": []
   },
   "outputs": [
    {
     "data": {
      "text/plain": [
       "['age',\n",
       " 'weekly_hours',\n",
       " 'average_session_length',\n",
       " 'song_skip_rate',\n",
       " 'weekly_songs_played',\n",
       " 'weekly_unique_songs',\n",
       " 'num_favorite_artists',\n",
       " 'num_platform_friends',\n",
       " 'num_playlists_created',\n",
       " 'num_shared_playlists',\n",
       " 'notifications_clicked',\n",
       " 'churned',\n",
       " 'PlaylistEngagementScore']"
      ]
     },
     "execution_count": 27,
     "metadata": {},
     "output_type": "execute_result"
    }
   ],
   "source": [
    "training_data_new.select_dtypes(include=['int64', 'float64']).columns.tolist()"
   ]
  },
  {
   "cell_type": "code",
   "execution_count": 28,
   "id": "f6f06c2f",
   "metadata": {
    "execution": {
     "iopub.execute_input": "2025-03-13T17:27:20.601419Z",
     "iopub.status.busy": "2025-03-13T17:27:20.601018Z",
     "iopub.status.idle": "2025-03-13T17:27:21.153315Z",
     "shell.execute_reply": "2025-03-13T17:27:21.152098Z"
    },
    "papermill": {
     "duration": 0.583762,
     "end_time": "2025-03-13T17:27:21.156067",
     "exception": false,
     "start_time": "2025-03-13T17:27:20.572305",
     "status": "completed"
    },
    "tags": []
   },
   "outputs": [
    {
     "name": "stderr",
     "output_type": "stream",
     "text": [
      "/usr/local/lib/python3.10/dist-packages/matplotlib/colors.py:721: RuntimeWarning: invalid value encountered in less\n",
      "  xa[xa < 0] = -1\n"
     ]
    },
    {
     "data": {
      "image/png": "[encoded data removed]",
      "text/plain": [
       "<Figure size 1200x800 with 2 Axes>"
      ]
     },
     "metadata": {},
     "output_type": "display_data"
    }
   ],
   "source": [
    "import numpy as np\n",
    "import seaborn as sns\n",
    "import matplotlib.pyplot as plt\n",
    "\n",
    "# Select numeric features\n",
    "numeric_features = training_data.select_dtypes(include=['int64', 'float64']).columns.tolist()\n",
    "\n",
    "# Compute correlation matrix\n",
    "corr_matrix = training_data[numeric_features].corr()\n",
    "\n",
    "# Handle NaN and infinite values\n",
    "corr_matrix = corr_matrix.replace([np.inf, -np.inf], np.nan).fillna(0)\n",
    "\n",
    "# Create the upper triangle mask\n",
    "upper_triangle = corr_matrix.where(np.triu(np.ones(corr_matrix.shape), k=1).astype(bool))\n",
    "\n",
    "# Plot the heatmap\n",
    "plt.figure(figsize=(12, 8))  # Increase figure size\n",
    "sns.heatmap(upper_triangle, annot=True, cmap=\"coolwarm\", fmt=\".1f\", linewidths=0.5, annot_kws={\"size\": 8})\n",
    "plt.xticks(rotation=45, ha=\"right\")  # Rotate X labels for better visibility\n",
    "plt.yticks(rotation=0)  # Keep Y labels readable\n",
    "plt.title('Improved Correlation Heatmap', fontsize=14)\n",
    "plt.show()"
   ]
  },
  {
   "cell_type": "code",
   "execution_count": 29,
   "id": "41641c0c",
   "metadata": {
    "execution": {
     "iopub.execute_input": "2025-03-13T17:27:21.275433Z",
     "iopub.status.busy": "2025-03-13T17:27:21.275043Z",
     "iopub.status.idle": "2025-03-13T17:27:21.280035Z",
     "shell.execute_reply": "2025-03-13T17:27:21.279062Z"
    },
    "papermill": {
     "duration": 0.094592,
     "end_time": "2025-03-13T17:27:21.281666",
     "exception": false,
     "start_time": "2025-03-13T17:27:21.187074",
     "status": "completed"
    },
    "tags": []
   },
   "outputs": [],
   "source": [
    "# Adjust the list of numeric features based on available columns\n",
    "numeric_features = [\n",
    "    'age', 'weekly_hours', 'average_session_length', 'song_skip_rate', 'weekly_songs_played',\n",
    "    'weekly_unique_songs', 'num_favorite_artists', 'num_platform_friends', 'num_playlists_created',\n",
    "    'num_shared_playlists', 'notifications_clicked', 'PlaylistEngagementScore'\n",
    "]\n",
    "\n",
    "# Specify nominal features based on your data\n",
    "nominal_features = [\n",
    "    'churned'  # 'churned' is treated as the target variable in binary classification\n",
    "]\n",
    "\n",
    "# You don't seem to have explicit ordinal features in your dataset. If needed, you can categorize other features later.\n",
    "\n",
    "# Combine all selected features\n",
    "all_features = numeric_features + nominal_features\n",
    "\n"
   ]
  },
  {
   "cell_type": "markdown",
   "id": "719892c3",
   "metadata": {
    "papermill": {
     "duration": 0.02947,
     "end_time": "2025-03-13T17:27:21.340909",
     "exception": false,
     "start_time": "2025-03-13T17:27:21.311439",
     "status": "completed"
    },
    "tags": []
   },
   "source": [
    "**8. Spliting data into training and testing**"
   ]
  },
  {
   "cell_type": "code",
   "execution_count": 30,
   "id": "a8b99791",
   "metadata": {
    "execution": {
     "iopub.execute_input": "2025-03-13T17:27:21.401406Z",
     "iopub.status.busy": "2025-03-13T17:27:21.401020Z",
     "iopub.status.idle": "2025-03-13T17:27:21.891572Z",
     "shell.execute_reply": "2025-03-13T17:27:21.890309Z"
    },
    "papermill": {
     "duration": 0.523292,
     "end_time": "2025-03-13T17:27:21.893661",
     "exception": false,
     "start_time": "2025-03-13T17:27:21.370369",
     "status": "completed"
    },
    "tags": []
   },
   "outputs": [
    {
     "name": "stdout",
     "output_type": "stream",
     "text": [
      "Size of training set: 28700\n",
      "Size of testing set: 12300\n"
     ]
    }
   ],
   "source": [
    "from sklearn.model_selection import train_test_split\n",
    "\n",
    "# Prepare features (X) and target variable (y)\n",
    "X = training_data_new[all_features]\n",
    "y = training_data_new['churned']\n",
    "\n",
    "# Split the data into training and testing sets\n",
    "X_train, X_test, y_train, y_test = train_test_split(X, y, test_size=0.3, random_state=42)\n",
    "print(f\"Size of training set: {len(X_train)}\")\n",
    "print(f\"Size of testing set: {len(X_test)}\")"
   ]
  },
  {
   "cell_type": "markdown",
   "id": "2241051d",
   "metadata": {
    "papermill": {
     "duration": 0.029445,
     "end_time": "2025-03-13T17:27:21.954169",
     "exception": false,
     "start_time": "2025-03-13T17:27:21.924724",
     "status": "completed"
    },
    "tags": []
   },
   "source": [
    "**9. Building Pipeline**"
   ]
  },
  {
   "cell_type": "code",
   "execution_count": 31,
   "id": "21ac1a2e",
   "metadata": {
    "execution": {
     "iopub.execute_input": "2025-03-13T17:27:22.015951Z",
     "iopub.status.busy": "2025-03-13T17:27:22.015537Z",
     "iopub.status.idle": "2025-03-13T17:27:22.980570Z",
     "shell.execute_reply": "2025-03-13T17:27:22.979317Z"
    },
    "papermill": {
     "duration": 0.998764,
     "end_time": "2025-03-13T17:27:22.982422",
     "exception": false,
     "start_time": "2025-03-13T17:27:21.983658",
     "status": "completed"
    },
    "tags": []
   },
   "outputs": [
    {
     "data": {
      "text/html": [
       "<style>#sk-container-id-1 {color: black;background-color: white;}#sk-container-id-1 pre{padding: 0;}#sk-container-id-1 div.sk-toggleable {background-color: white;}#sk-container-id-1 label.sk-toggleable__label {cursor: pointer;display: block;width: 100%;margin-bottom: 0;padding: 0.3em;box-sizing: border-box;text-align: center;}#sk-container-id-1 label.sk-toggleable__label-arrow:before {content: \"▸\";float: left;margin-right: 0.25em;color: #696969;}#sk-container-id-1 label.sk-toggleable__label-arrow:hover:before {color: black;}#sk-container-id-1 div.sk-estimator:hover label.sk-toggleable__label-arrow:before {color: black;}#sk-container-id-1 div.sk-toggleable__content {max-height: 0;max-width: 0;overflow: hidden;text-align: left;background-color: #f0f8ff;}#sk-container-id-1 div.sk-toggleable__content pre {margin: 0.2em;color: black;border-radius: 0.25em;background-color: #f0f8ff;}#sk-container-id-1 input.sk-toggleable__control:checked~div.sk-toggleable__content {max-height: 200px;max-width: 100%;overflow: auto;}#sk-container-id-1 input.sk-toggleable__control:checked~label.sk-toggleable__label-arrow:before {content: \"▾\";}#sk-container-id-1 div.sk-estimator input.sk-toggleable__control:checked~label.sk-toggleable__label {background-color: #d4ebff;}#sk-container-id-1 div.sk-label input.sk-toggleable__control:checked~label.sk-toggleable__label {background-color: #d4ebff;}#sk-container-id-1 input.sk-hidden--visually {border: 0;clip: rect(1px 1px 1px 1px);clip: rect(1px, 1px, 1px, 1px);height: 1px;margin: -1px;overflow: hidden;padding: 0;position: absolute;width: 1px;}#sk-container-id-1 div.sk-estimator {font-family: monospace;background-color: #f0f8ff;border: 1px dotted black;border-radius: 0.25em;box-sizing: border-box;margin-bottom: 0.5em;}#sk-container-id-1 div.sk-estimator:hover {background-color: #d4ebff;}#sk-container-id-1 div.sk-parallel-item::after {content: \"\";width: 100%;border-bottom: 1px solid gray;flex-grow: 1;}#sk-container-id-1 div.sk-label:hover label.sk-toggleable__label {background-color: #d4ebff;}#sk-container-id-1 div.sk-serial::before {content: \"\";position: absolute;border-left: 1px solid gray;box-sizing: border-box;top: 0;bottom: 0;left: 50%;z-index: 0;}#sk-container-id-1 div.sk-serial {display: flex;flex-direction: column;align-items: center;background-color: white;padding-right: 0.2em;padding-left: 0.2em;position: relative;}#sk-container-id-1 div.sk-item {position: relative;z-index: 1;}#sk-container-id-1 div.sk-parallel {display: flex;align-items: stretch;justify-content: center;background-color: white;position: relative;}#sk-container-id-1 div.sk-item::before, #sk-container-id-1 div.sk-parallel-item::before {content: \"\";position: absolute;border-left: 1px solid gray;box-sizing: border-box;top: 0;bottom: 0;left: 50%;z-index: -1;}#sk-container-id-1 div.sk-parallel-item {display: flex;flex-direction: column;z-index: 1;position: relative;background-color: white;}#sk-container-id-1 div.sk-parallel-item:first-child::after {align-self: flex-end;width: 50%;}#sk-container-id-1 div.sk-parallel-item:last-child::after {align-self: flex-start;width: 50%;}#sk-container-id-1 div.sk-parallel-item:only-child::after {width: 0;}#sk-container-id-1 div.sk-dashed-wrapped {border: 1px dashed gray;margin: 0 0.4em 0.5em 0.4em;box-sizing: border-box;padding-bottom: 0.4em;background-color: white;}#sk-container-id-1 div.sk-label label {font-family: monospace;font-weight: bold;display: inline-block;line-height: 1.2em;}#sk-container-id-1 div.sk-label-container {text-align: center;}#sk-container-id-1 div.sk-container {/* jupyter's `normalize.less` sets `[hidden] { display: none; }` but bootstrap.min.css set `[hidden] { display: none !important; }` so we also need the `!important` here to be able to override the default hidden behavior on the sphinx rendered scikit-learn.org. See: https://github.com/scikit-learn/scikit-learn/issues/21755 */display: inline-block !important;position: relative;}#sk-container-id-1 div.sk-text-repr-fallback {display: none;}</style><div id=\"sk-container-id-1\" class=\"sk-top-container\"><div class=\"sk-text-repr-fallback\"><pre>ColumnTransformer(transformers=[(&#x27;num&#x27;,\n",
       "                                 Pipeline(steps=[(&#x27;imputer&#x27;,\n",
       "                                                  SimpleImputer(strategy=&#x27;median&#x27;)),\n",
       "                                                 (&#x27;scaler&#x27;, StandardScaler())]),\n",
       "                                 [&#x27;age&#x27;, &#x27;weekly_hours&#x27;,\n",
       "                                  &#x27;average_session_length&#x27;, &#x27;song_skip_rate&#x27;,\n",
       "                                  &#x27;weekly_songs_played&#x27;, &#x27;weekly_unique_songs&#x27;,\n",
       "                                  &#x27;num_favorite_artists&#x27;,\n",
       "                                  &#x27;num_platform_friends&#x27;,\n",
       "                                  &#x27;num_playlists_created&#x27;,\n",
       "                                  &#x27;num_shared_playlists&#x27;,\n",
       "                                  &#x27;notifications_clicked&#x27;,\n",
       "                                  &#x27;PlaylistEngagementScore&#x27;])])</pre><b>In a Jupyter environment, please rerun this cell to show the HTML representation or trust the notebook. <br />On GitHub, the HTML representation is unable to render, please try loading this page with nbviewer.org.</b></div><div class=\"sk-container\" hidden><div class=\"sk-item sk-dashed-wrapped\"><div class=\"sk-label-container\"><div class=\"sk-label sk-toggleable\"><input class=\"sk-toggleable__control sk-hidden--visually\" id=\"sk-estimator-id-1\" type=\"checkbox\" ><label for=\"sk-estimator-id-1\" class=\"sk-toggleable__label sk-toggleable__label-arrow\">ColumnTransformer</label><div class=\"sk-toggleable__content\"><pre>ColumnTransformer(transformers=[(&#x27;num&#x27;,\n",
       "                                 Pipeline(steps=[(&#x27;imputer&#x27;,\n",
       "                                                  SimpleImputer(strategy=&#x27;median&#x27;)),\n",
       "                                                 (&#x27;scaler&#x27;, StandardScaler())]),\n",
       "                                 [&#x27;age&#x27;, &#x27;weekly_hours&#x27;,\n",
       "                                  &#x27;average_session_length&#x27;, &#x27;song_skip_rate&#x27;,\n",
       "                                  &#x27;weekly_songs_played&#x27;, &#x27;weekly_unique_songs&#x27;,\n",
       "                                  &#x27;num_favorite_artists&#x27;,\n",
       "                                  &#x27;num_platform_friends&#x27;,\n",
       "                                  &#x27;num_playlists_created&#x27;,\n",
       "                                  &#x27;num_shared_playlists&#x27;,\n",
       "                                  &#x27;notifications_clicked&#x27;,\n",
       "                                  &#x27;PlaylistEngagementScore&#x27;])])</pre></div></div></div><div class=\"sk-parallel\"><div class=\"sk-parallel-item\"><div class=\"sk-item\"><div class=\"sk-label-container\"><div class=\"sk-label sk-toggleable\"><input class=\"sk-toggleable__control sk-hidden--visually\" id=\"sk-estimator-id-2\" type=\"checkbox\" ><label for=\"sk-estimator-id-2\" class=\"sk-toggleable__label sk-toggleable__label-arrow\">num</label><div class=\"sk-toggleable__content\"><pre>[&#x27;age&#x27;, &#x27;weekly_hours&#x27;, &#x27;average_session_length&#x27;, &#x27;song_skip_rate&#x27;, &#x27;weekly_songs_played&#x27;, &#x27;weekly_unique_songs&#x27;, &#x27;num_favorite_artists&#x27;, &#x27;num_platform_friends&#x27;, &#x27;num_playlists_created&#x27;, &#x27;num_shared_playlists&#x27;, &#x27;notifications_clicked&#x27;, &#x27;PlaylistEngagementScore&#x27;]</pre></div></div></div><div class=\"sk-serial\"><div class=\"sk-item\"><div class=\"sk-serial\"><div class=\"sk-item\"><div class=\"sk-estimator sk-toggleable\"><input class=\"sk-toggleable__control sk-hidden--visually\" id=\"sk-estimator-id-3\" type=\"checkbox\" ><label for=\"sk-estimator-id-3\" class=\"sk-toggleable__label sk-toggleable__label-arrow\">SimpleImputer</label><div class=\"sk-toggleable__content\"><pre>SimpleImputer(strategy=&#x27;median&#x27;)</pre></div></div></div><div class=\"sk-item\"><div class=\"sk-estimator sk-toggleable\"><input class=\"sk-toggleable__control sk-hidden--visually\" id=\"sk-estimator-id-4\" type=\"checkbox\" ><label for=\"sk-estimator-id-4\" class=\"sk-toggleable__label sk-toggleable__label-arrow\">StandardScaler</label><div class=\"sk-toggleable__content\"><pre>StandardScaler()</pre></div></div></div></div></div></div></div></div></div></div></div></div>"
      ],
      "text/plain": [
       "ColumnTransformer(transformers=[('num',\n",
       "                                 Pipeline(steps=[('imputer',\n",
       "                                                  SimpleImputer(strategy='median')),\n",
       "                                                 ('scaler', StandardScaler())]),\n",
       "                                 ['age', 'weekly_hours',\n",
       "                                  'average_session_length', 'song_skip_rate',\n",
       "                                  'weekly_songs_played', 'weekly_unique_songs',\n",
       "                                  'num_favorite_artists',\n",
       "                                  'num_platform_friends',\n",
       "                                  'num_playlists_created',\n",
       "                                  'num_shared_playlists',\n",
       "                                  'notifications_clicked',\n",
       "                                  'PlaylistEngagementScore'])])"
      ]
     },
     "execution_count": 31,
     "metadata": {},
     "output_type": "execute_result"
    }
   ],
   "source": [
    "from sklearn.ensemble import RandomForestClassifier\n",
    "from sklearn.model_selection import train_test_split\n",
    "from sklearn.preprocessing import StandardScaler\n",
    "from sklearn.compose import ColumnTransformer\n",
    "from sklearn.pipeline import Pipeline\n",
    "from sklearn.impute import SimpleImputer\n",
    "from imblearn.over_sampling import SMOTE\n",
    "from sklearn.metrics import accuracy_score, precision_score, recall_score, f1_score, roc_auc_score, classification_report\n",
    "\n",
    "# Define numeric features\n",
    "numeric_features = [\n",
    "    'age', 'weekly_hours', 'average_session_length', 'song_skip_rate', \n",
    "    'weekly_songs_played', 'weekly_unique_songs', 'num_favorite_artists', \n",
    "    'num_platform_friends', 'num_playlists_created', 'num_shared_playlists', \n",
    "    'notifications_clicked', 'PlaylistEngagementScore'\n",
    "]\n",
    "\n",
    "# Split the data\n",
    "X = training_data_new[numeric_features]\n",
    "y = training_data_new['churned']\n",
    "\n",
    "X_train, X_test, y_train, y_test = train_test_split(X, y, test_size=0.3, stratify=y, random_state=42)\n",
    "\n",
    "# Apply SMOTE to handle class imbalance\n",
    "smote = SMOTE(random_state=42)\n",
    "X_train_sm, y_train_sm = smote.fit_resample(X_train, y_train)\n",
    "\n",
    "# Preprocessing pipeline for numeric features\n",
    "numeric_transformer = Pipeline(steps=[\n",
    "    ('imputer', SimpleImputer(strategy='median')),\n",
    "    ('scaler', StandardScaler())\n",
    "])\n",
    "\n",
    "# Apply transformations\n",
    "preprocessor = ColumnTransformer(transformers=[\n",
    "    ('num', numeric_transformer, numeric_features)\n",
    "])\n",
    "preprocessor"
   ]
  },
  {
   "cell_type": "code",
   "execution_count": 32,
   "id": "0c84426a",
   "metadata": {
    "execution": {
     "iopub.execute_input": "2025-03-13T17:27:23.044071Z",
     "iopub.status.busy": "2025-03-13T17:27:23.043518Z",
     "iopub.status.idle": "2025-03-13T17:27:23.084187Z",
     "shell.execute_reply": "2025-03-13T17:27:23.083079Z"
    },
    "papermill": {
     "duration": 0.073288,
     "end_time": "2025-03-13T17:27:23.085992",
     "exception": false,
     "start_time": "2025-03-13T17:27:23.012704",
     "status": "completed"
    },
    "tags": []
   },
   "outputs": [
    {
     "data": {
      "text/html": [
       "<style>#sk-container-id-2 {color: black;background-color: white;}#sk-container-id-2 pre{padding: 0;}#sk-container-id-2 div.sk-toggleable {background-color: white;}#sk-container-id-2 label.sk-toggleable__label {cursor: pointer;display: block;width: 100%;margin-bottom: 0;padding: 0.3em;box-sizing: border-box;text-align: center;}#sk-container-id-2 label.sk-toggleable__label-arrow:before {content: \"▸\";float: left;margin-right: 0.25em;color: #696969;}#sk-container-id-2 label.sk-toggleable__label-arrow:hover:before {color: black;}#sk-container-id-2 div.sk-estimator:hover label.sk-toggleable__label-arrow:before {color: black;}#sk-container-id-2 div.sk-toggleable__content {max-height: 0;max-width: 0;overflow: hidden;text-align: left;background-color: #f0f8ff;}#sk-container-id-2 div.sk-toggleable__content pre {margin: 0.2em;color: black;border-radius: 0.25em;background-color: #f0f8ff;}#sk-container-id-2 input.sk-toggleable__control:checked~div.sk-toggleable__content {max-height: 200px;max-width: 100%;overflow: auto;}#sk-container-id-2 input.sk-toggleable__control:checked~label.sk-toggleable__label-arrow:before {content: \"▾\";}#sk-container-id-2 div.sk-estimator input.sk-toggleable__control:checked~label.sk-toggleable__label {background-color: #d4ebff;}#sk-container-id-2 div.sk-label input.sk-toggleable__control:checked~label.sk-toggleable__label {background-color: #d4ebff;}#sk-container-id-2 input.sk-hidden--visually {border: 0;clip: rect(1px 1px 1px 1px);clip: rect(1px, 1px, 1px, 1px);height: 1px;margin: -1px;overflow: hidden;padding: 0;position: absolute;width: 1px;}#sk-container-id-2 div.sk-estimator {font-family: monospace;background-color: #f0f8ff;border: 1px dotted black;border-radius: 0.25em;box-sizing: border-box;margin-bottom: 0.5em;}#sk-container-id-2 div.sk-estimator:hover {background-color: #d4ebff;}#sk-container-id-2 div.sk-parallel-item::after {content: \"\";width: 100%;border-bottom: 1px solid gray;flex-grow: 1;}#sk-container-id-2 div.sk-label:hover label.sk-toggleable__label {background-color: #d4ebff;}#sk-container-id-2 div.sk-serial::before {content: \"\";position: absolute;border-left: 1px solid gray;box-sizing: border-box;top: 0;bottom: 0;left: 50%;z-index: 0;}#sk-container-id-2 div.sk-serial {display: flex;flex-direction: column;align-items: center;background-color: white;padding-right: 0.2em;padding-left: 0.2em;position: relative;}#sk-container-id-2 div.sk-item {position: relative;z-index: 1;}#sk-container-id-2 div.sk-parallel {display: flex;align-items: stretch;justify-content: center;background-color: white;position: relative;}#sk-container-id-2 div.sk-item::before, #sk-container-id-2 div.sk-parallel-item::before {content: \"\";position: absolute;border-left: 1px solid gray;box-sizing: border-box;top: 0;bottom: 0;left: 50%;z-index: -1;}#sk-container-id-2 div.sk-parallel-item {display: flex;flex-direction: column;z-index: 1;position: relative;background-color: white;}#sk-container-id-2 div.sk-parallel-item:first-child::after {align-self: flex-end;width: 50%;}#sk-container-id-2 div.sk-parallel-item:last-child::after {align-self: flex-start;width: 50%;}#sk-container-id-2 div.sk-parallel-item:only-child::after {width: 0;}#sk-container-id-2 div.sk-dashed-wrapped {border: 1px dashed gray;margin: 0 0.4em 0.5em 0.4em;box-sizing: border-box;padding-bottom: 0.4em;background-color: white;}#sk-container-id-2 div.sk-label label {font-family: monospace;font-weight: bold;display: inline-block;line-height: 1.2em;}#sk-container-id-2 div.sk-label-container {text-align: center;}#sk-container-id-2 div.sk-container {/* jupyter's `normalize.less` sets `[hidden] { display: none; }` but bootstrap.min.css set `[hidden] { display: none !important; }` so we also need the `!important` here to be able to override the default hidden behavior on the sphinx rendered scikit-learn.org. See: https://github.com/scikit-learn/scikit-learn/issues/21755 */display: inline-block !important;position: relative;}#sk-container-id-2 div.sk-text-repr-fallback {display: none;}</style><div id=\"sk-container-id-2\" class=\"sk-top-container\"><div class=\"sk-text-repr-fallback\"><pre>Pipeline(steps=[(&#x27;preprocessor&#x27;,\n",
       "                 ColumnTransformer(transformers=[(&#x27;num&#x27;,\n",
       "                                                  Pipeline(steps=[(&#x27;imputer&#x27;,\n",
       "                                                                   SimpleImputer(strategy=&#x27;median&#x27;)),\n",
       "                                                                  (&#x27;scaler&#x27;,\n",
       "                                                                   StandardScaler())]),\n",
       "                                                  [&#x27;age&#x27;, &#x27;weekly_hours&#x27;,\n",
       "                                                   &#x27;average_session_length&#x27;,\n",
       "                                                   &#x27;song_skip_rate&#x27;,\n",
       "                                                   &#x27;weekly_songs_played&#x27;,\n",
       "                                                   &#x27;weekly_unique_songs&#x27;,\n",
       "                                                   &#x27;num_favorite_artists&#x27;,\n",
       "                                                   &#x27;num_platform_friends&#x27;,\n",
       "                                                   &#x27;num_playlists_created&#x27;,\n",
       "                                                   &#x27;num_shared_playlists&#x27;,\n",
       "                                                   &#x27;notifications_clicked&#x27;,\n",
       "                                                   &#x27;PlaylistEngagementScore&#x27;])])),\n",
       "                (&#x27;classifier&#x27;,\n",
       "                 RandomForestClassifier(max_depth=10, min_samples_leaf=3,\n",
       "                                        min_samples_split=5, n_estimators=300,\n",
       "                                        random_state=42))])</pre><b>In a Jupyter environment, please rerun this cell to show the HTML representation or trust the notebook. <br />On GitHub, the HTML representation is unable to render, please try loading this page with nbviewer.org.</b></div><div class=\"sk-container\" hidden><div class=\"sk-item sk-dashed-wrapped\"><div class=\"sk-label-container\"><div class=\"sk-label sk-toggleable\"><input class=\"sk-toggleable__control sk-hidden--visually\" id=\"sk-estimator-id-5\" type=\"checkbox\" ><label for=\"sk-estimator-id-5\" class=\"sk-toggleable__label sk-toggleable__label-arrow\">Pipeline</label><div class=\"sk-toggleable__content\"><pre>Pipeline(steps=[(&#x27;preprocessor&#x27;,\n",
       "                 ColumnTransformer(transformers=[(&#x27;num&#x27;,\n",
       "                                                  Pipeline(steps=[(&#x27;imputer&#x27;,\n",
       "                                                                   SimpleImputer(strategy=&#x27;median&#x27;)),\n",
       "                                                                  (&#x27;scaler&#x27;,\n",
       "                                                                   StandardScaler())]),\n",
       "                                                  [&#x27;age&#x27;, &#x27;weekly_hours&#x27;,\n",
       "                                                   &#x27;average_session_length&#x27;,\n",
       "                                                   &#x27;song_skip_rate&#x27;,\n",
       "                                                   &#x27;weekly_songs_played&#x27;,\n",
       "                                                   &#x27;weekly_unique_songs&#x27;,\n",
       "                                                   &#x27;num_favorite_artists&#x27;,\n",
       "                                                   &#x27;num_platform_friends&#x27;,\n",
       "                                                   &#x27;num_playlists_created&#x27;,\n",
       "                                                   &#x27;num_shared_playlists&#x27;,\n",
       "                                                   &#x27;notifications_clicked&#x27;,\n",
       "                                                   &#x27;PlaylistEngagementScore&#x27;])])),\n",
       "                (&#x27;classifier&#x27;,\n",
       "                 RandomForestClassifier(max_depth=10, min_samples_leaf=3,\n",
       "                                        min_samples_split=5, n_estimators=300,\n",
       "                                        random_state=42))])</pre></div></div></div><div class=\"sk-serial\"><div class=\"sk-item sk-dashed-wrapped\"><div class=\"sk-label-container\"><div class=\"sk-label sk-toggleable\"><input class=\"sk-toggleable__control sk-hidden--visually\" id=\"sk-estimator-id-6\" type=\"checkbox\" ><label for=\"sk-estimator-id-6\" class=\"sk-toggleable__label sk-toggleable__label-arrow\">preprocessor: ColumnTransformer</label><div class=\"sk-toggleable__content\"><pre>ColumnTransformer(transformers=[(&#x27;num&#x27;,\n",
       "                                 Pipeline(steps=[(&#x27;imputer&#x27;,\n",
       "                                                  SimpleImputer(strategy=&#x27;median&#x27;)),\n",
       "                                                 (&#x27;scaler&#x27;, StandardScaler())]),\n",
       "                                 [&#x27;age&#x27;, &#x27;weekly_hours&#x27;,\n",
       "                                  &#x27;average_session_length&#x27;, &#x27;song_skip_rate&#x27;,\n",
       "                                  &#x27;weekly_songs_played&#x27;, &#x27;weekly_unique_songs&#x27;,\n",
       "                                  &#x27;num_favorite_artists&#x27;,\n",
       "                                  &#x27;num_platform_friends&#x27;,\n",
       "                                  &#x27;num_playlists_created&#x27;,\n",
       "                                  &#x27;num_shared_playlists&#x27;,\n",
       "                                  &#x27;notifications_clicked&#x27;,\n",
       "                                  &#x27;PlaylistEngagementScore&#x27;])])</pre></div></div></div><div class=\"sk-parallel\"><div class=\"sk-parallel-item\"><div class=\"sk-item\"><div class=\"sk-label-container\"><div class=\"sk-label sk-toggleable\"><input class=\"sk-toggleable__control sk-hidden--visually\" id=\"sk-estimator-id-7\" type=\"checkbox\" ><label for=\"sk-estimator-id-7\" class=\"sk-toggleable__label sk-toggleable__label-arrow\">num</label><div class=\"sk-toggleable__content\"><pre>[&#x27;age&#x27;, &#x27;weekly_hours&#x27;, &#x27;average_session_length&#x27;, &#x27;song_skip_rate&#x27;, &#x27;weekly_songs_played&#x27;, &#x27;weekly_unique_songs&#x27;, &#x27;num_favorite_artists&#x27;, &#x27;num_platform_friends&#x27;, &#x27;num_playlists_created&#x27;, &#x27;num_shared_playlists&#x27;, &#x27;notifications_clicked&#x27;, &#x27;PlaylistEngagementScore&#x27;]</pre></div></div></div><div class=\"sk-serial\"><div class=\"sk-item\"><div class=\"sk-serial\"><div class=\"sk-item\"><div class=\"sk-estimator sk-toggleable\"><input class=\"sk-toggleable__control sk-hidden--visually\" id=\"sk-estimator-id-8\" type=\"checkbox\" ><label for=\"sk-estimator-id-8\" class=\"sk-toggleable__label sk-toggleable__label-arrow\">SimpleImputer</label><div class=\"sk-toggleable__content\"><pre>SimpleImputer(strategy=&#x27;median&#x27;)</pre></div></div></div><div class=\"sk-item\"><div class=\"sk-estimator sk-toggleable\"><input class=\"sk-toggleable__control sk-hidden--visually\" id=\"sk-estimator-id-9\" type=\"checkbox\" ><label for=\"sk-estimator-id-9\" class=\"sk-toggleable__label sk-toggleable__label-arrow\">StandardScaler</label><div class=\"sk-toggleable__content\"><pre>StandardScaler()</pre></div></div></div></div></div></div></div></div></div></div><div class=\"sk-item\"><div class=\"sk-estimator sk-toggleable\"><input class=\"sk-toggleable__control sk-hidden--visually\" id=\"sk-estimator-id-10\" type=\"checkbox\" ><label for=\"sk-estimator-id-10\" class=\"sk-toggleable__label sk-toggleable__label-arrow\">RandomForestClassifier</label><div class=\"sk-toggleable__content\"><pre>RandomForestClassifier(max_depth=10, min_samples_leaf=3, min_samples_split=5,\n",
       "                       n_estimators=300, random_state=42)</pre></div></div></div></div></div></div></div>"
      ],
      "text/plain": [
       "Pipeline(steps=[('preprocessor',\n",
       "                 ColumnTransformer(transformers=[('num',\n",
       "                                                  Pipeline(steps=[('imputer',\n",
       "                                                                   SimpleImputer(strategy='median')),\n",
       "                                                                  ('scaler',\n",
       "                                                                   StandardScaler())]),\n",
       "                                                  ['age', 'weekly_hours',\n",
       "                                                   'average_session_length',\n",
       "                                                   'song_skip_rate',\n",
       "                                                   'weekly_songs_played',\n",
       "                                                   'weekly_unique_songs',\n",
       "                                                   'num_favorite_artists',\n",
       "                                                   'num_platform_friends',\n",
       "                                                   'num_playlists_created',\n",
       "                                                   'num_shared_playlists',\n",
       "                                                   'notifications_clicked',\n",
       "                                                   'PlaylistEngagementScore'])])),\n",
       "                ('classifier',\n",
       "                 RandomForestClassifier(max_depth=10, min_samples_leaf=3,\n",
       "                                        min_samples_split=5, n_estimators=300,\n",
       "                                        random_state=42))])"
      ]
     },
     "execution_count": 32,
     "metadata": {},
     "output_type": "execute_result"
    }
   ],
   "source": [
    "# Train Random Forest Classifier\n",
    "random_forest_model = Pipeline(steps=[\n",
    "    ('preprocessor', preprocessor),\n",
    "    ('classifier', RandomForestClassifier(\n",
    "        random_state=42,\n",
    "        n_estimators=300,   # Increased trees\n",
    "        max_depth=10,       # Deeper trees\n",
    "        min_samples_split=5,  \n",
    "        min_samples_leaf=3, \n",
    "        class_weight=None  # Removed 'balanced' since SMOTE is used\n",
    "    ))\n",
    "])\n",
    "\n",
    "\n",
    "random_forest_model"
   ]
  },
  {
   "cell_type": "code",
   "execution_count": 33,
   "id": "39c6965d",
   "metadata": {
    "execution": {
     "iopub.execute_input": "2025-03-13T17:27:23.149141Z",
     "iopub.status.busy": "2025-03-13T17:27:23.148744Z",
     "iopub.status.idle": "2025-03-13T17:27:51.214568Z",
     "shell.execute_reply": "2025-03-13T17:27:51.213166Z"
    },
    "papermill": {
     "duration": 28.099947,
     "end_time": "2025-03-13T17:27:51.216680",
     "exception": false,
     "start_time": "2025-03-13T17:27:23.116733",
     "status": "completed"
    },
    "tags": []
   },
   "outputs": [
    {
     "name": "stdout",
     "output_type": "stream",
     "text": [
      "Accuracy: 0.6675\n",
      "Precision: 0.2338\n",
      "Recall: 0.2454\n",
      "F1-Score: 0.2395\n",
      "AUC-ROC: 0.5137\n",
      "\n",
      "Classification Report:\n",
      "               precision    recall  f1-score   support\n",
      "\n",
      "           0       0.79      0.78      0.79      9676\n",
      "           1       0.23      0.25      0.24      2624\n",
      "\n",
      "    accuracy                           0.67     12300\n",
      "   macro avg       0.51      0.51      0.51     12300\n",
      "weighted avg       0.67      0.67      0.67     12300\n",
      "\n"
     ]
    }
   ],
   "source": [
    "# Fit model\n",
    "random_forest_model.fit(X_train_sm, y_train_sm)\n",
    "\n",
    "# Predictions\n",
    "y_pred = random_forest_model.predict(X_test)\n",
    "\n",
    "# Model evaluation\n",
    "print(f\"Accuracy: {accuracy_score(y_test, y_pred):.4f}\")\n",
    "print(f\"Precision: {precision_score(y_test, y_pred):.4f}\")\n",
    "print(f\"Recall: {recall_score(y_test, y_pred):.4f}\")\n",
    "print(f\"F1-Score: {f1_score(y_test, y_pred):.4f}\")\n",
    "print(f\"AUC-ROC: {roc_auc_score(y_test, y_pred):.4f}\")\n",
    "print(\"\\nClassification Report:\\n\", classification_report(y_test, y_pred))"
   ]
  },
  {
   "cell_type": "code",
   "execution_count": 34,
   "id": "f5b919d6",
   "metadata": {
    "execution": {
     "iopub.execute_input": "2025-03-13T17:27:51.282090Z",
     "iopub.status.busy": "2025-03-13T17:27:51.281672Z",
     "iopub.status.idle": "2025-03-13T17:27:51.665865Z",
     "shell.execute_reply": "2025-03-13T17:27:51.664493Z"
    },
    "papermill": {
     "duration": 0.419711,
     "end_time": "2025-03-13T17:27:51.667780",
     "exception": false,
     "start_time": "2025-03-13T17:27:51.248069",
     "status": "completed"
    },
    "tags": []
   },
   "outputs": [
    {
     "name": "stdout",
     "output_type": "stream",
     "text": [
      "Value Counts of Predictions:\n",
      "0    9546\n",
      "1    2754\n",
      "Name: count, dtype: int64\n"
     ]
    }
   ],
   "source": [
    "# Ensure predictions are in the correct format\n",
    "random_forest_predictions = random_forest_model.predict(X_test)\n",
    "\n",
    "# Convert predictions to a Pandas Series to check value counts\n",
    "prediction_counts = pd.Series(random_forest_predictions).value_counts()\n",
    "print(\"Value Counts of Predictions:\")\n",
    "print(prediction_counts)"
   ]
  },
  {
   "cell_type": "code",
   "execution_count": 35,
   "id": "8e6ea8fd",
   "metadata": {
    "execution": {
     "iopub.execute_input": "2025-03-13T17:27:51.733681Z",
     "iopub.status.busy": "2025-03-13T17:27:51.733278Z",
     "iopub.status.idle": "2025-03-13T17:27:51.773435Z",
     "shell.execute_reply": "2025-03-13T17:27:51.772171Z"
    },
    "papermill": {
     "duration": 0.076118,
     "end_time": "2025-03-13T17:27:51.775360",
     "exception": false,
     "start_time": "2025-03-13T17:27:51.699242",
     "status": "completed"
    },
    "tags": []
   },
   "outputs": [
    {
     "data": {
      "text/html": [
       "<style>#sk-container-id-3 {color: black;background-color: white;}#sk-container-id-3 pre{padding: 0;}#sk-container-id-3 div.sk-toggleable {background-color: white;}#sk-container-id-3 label.sk-toggleable__label {cursor: pointer;display: block;width: 100%;margin-bottom: 0;padding: 0.3em;box-sizing: border-box;text-align: center;}#sk-container-id-3 label.sk-toggleable__label-arrow:before {content: \"▸\";float: left;margin-right: 0.25em;color: #696969;}#sk-container-id-3 label.sk-toggleable__label-arrow:hover:before {color: black;}#sk-container-id-3 div.sk-estimator:hover label.sk-toggleable__label-arrow:before {color: black;}#sk-container-id-3 div.sk-toggleable__content {max-height: 0;max-width: 0;overflow: hidden;text-align: left;background-color: #f0f8ff;}#sk-container-id-3 div.sk-toggleable__content pre {margin: 0.2em;color: black;border-radius: 0.25em;background-color: #f0f8ff;}#sk-container-id-3 input.sk-toggleable__control:checked~div.sk-toggleable__content {max-height: 200px;max-width: 100%;overflow: auto;}#sk-container-id-3 input.sk-toggleable__control:checked~label.sk-toggleable__label-arrow:before {content: \"▾\";}#sk-container-id-3 div.sk-estimator input.sk-toggleable__control:checked~label.sk-toggleable__label {background-color: #d4ebff;}#sk-container-id-3 div.sk-label input.sk-toggleable__control:checked~label.sk-toggleable__label {background-color: #d4ebff;}#sk-container-id-3 input.sk-hidden--visually {border: 0;clip: rect(1px 1px 1px 1px);clip: rect(1px, 1px, 1px, 1px);height: 1px;margin: -1px;overflow: hidden;padding: 0;position: absolute;width: 1px;}#sk-container-id-3 div.sk-estimator {font-family: monospace;background-color: #f0f8ff;border: 1px dotted black;border-radius: 0.25em;box-sizing: border-box;margin-bottom: 0.5em;}#sk-container-id-3 div.sk-estimator:hover {background-color: #d4ebff;}#sk-container-id-3 div.sk-parallel-item::after {content: \"\";width: 100%;border-bottom: 1px solid gray;flex-grow: 1;}#sk-container-id-3 div.sk-label:hover label.sk-toggleable__label {background-color: #d4ebff;}#sk-container-id-3 div.sk-serial::before {content: \"\";position: absolute;border-left: 1px solid gray;box-sizing: border-box;top: 0;bottom: 0;left: 50%;z-index: 0;}#sk-container-id-3 div.sk-serial {display: flex;flex-direction: column;align-items: center;background-color: white;padding-right: 0.2em;padding-left: 0.2em;position: relative;}#sk-container-id-3 div.sk-item {position: relative;z-index: 1;}#sk-container-id-3 div.sk-parallel {display: flex;align-items: stretch;justify-content: center;background-color: white;position: relative;}#sk-container-id-3 div.sk-item::before, #sk-container-id-3 div.sk-parallel-item::before {content: \"\";position: absolute;border-left: 1px solid gray;box-sizing: border-box;top: 0;bottom: 0;left: 50%;z-index: -1;}#sk-container-id-3 div.sk-parallel-item {display: flex;flex-direction: column;z-index: 1;position: relative;background-color: white;}#sk-container-id-3 div.sk-parallel-item:first-child::after {align-self: flex-end;width: 50%;}#sk-container-id-3 div.sk-parallel-item:last-child::after {align-self: flex-start;width: 50%;}#sk-container-id-3 div.sk-parallel-item:only-child::after {width: 0;}#sk-container-id-3 div.sk-dashed-wrapped {border: 1px dashed gray;margin: 0 0.4em 0.5em 0.4em;box-sizing: border-box;padding-bottom: 0.4em;background-color: white;}#sk-container-id-3 div.sk-label label {font-family: monospace;font-weight: bold;display: inline-block;line-height: 1.2em;}#sk-container-id-3 div.sk-label-container {text-align: center;}#sk-container-id-3 div.sk-container {/* jupyter's `normalize.less` sets `[hidden] { display: none; }` but bootstrap.min.css set `[hidden] { display: none !important; }` so we also need the `!important` here to be able to override the default hidden behavior on the sphinx rendered scikit-learn.org. See: https://github.com/scikit-learn/scikit-learn/issues/21755 */display: inline-block !important;position: relative;}#sk-container-id-3 div.sk-text-repr-fallback {display: none;}</style><div id=\"sk-container-id-3\" class=\"sk-top-container\"><div class=\"sk-text-repr-fallback\"><pre>ColumnTransformer(transformers=[(&#x27;num&#x27;,\n",
       "                                 Pipeline(steps=[(&#x27;imputer&#x27;,\n",
       "                                                  SimpleImputer(strategy=&#x27;median&#x27;)),\n",
       "                                                 (&#x27;scaler&#x27;, StandardScaler())]),\n",
       "                                 [&#x27;age&#x27;, &#x27;weekly_hours&#x27;,\n",
       "                                  &#x27;average_session_length&#x27;, &#x27;song_skip_rate&#x27;,\n",
       "                                  &#x27;weekly_songs_played&#x27;, &#x27;weekly_unique_songs&#x27;,\n",
       "                                  &#x27;num_favorite_artists&#x27;,\n",
       "                                  &#x27;num_platform_friends&#x27;,\n",
       "                                  &#x27;num_playlists_created&#x27;,\n",
       "                                  &#x27;num_shared_playlists&#x27;,\n",
       "                                  &#x27;notifications_clicked&#x27;])])</pre><b>In a Jupyter environment, please rerun this cell to show the HTML representation or trust the notebook. <br />On GitHub, the HTML representation is unable to render, please try loading this page with nbviewer.org.</b></div><div class=\"sk-container\" hidden><div class=\"sk-item sk-dashed-wrapped\"><div class=\"sk-label-container\"><div class=\"sk-label sk-toggleable\"><input class=\"sk-toggleable__control sk-hidden--visually\" id=\"sk-estimator-id-11\" type=\"checkbox\" ><label for=\"sk-estimator-id-11\" class=\"sk-toggleable__label sk-toggleable__label-arrow\">ColumnTransformer</label><div class=\"sk-toggleable__content\"><pre>ColumnTransformer(transformers=[(&#x27;num&#x27;,\n",
       "                                 Pipeline(steps=[(&#x27;imputer&#x27;,\n",
       "                                                  SimpleImputer(strategy=&#x27;median&#x27;)),\n",
       "                                                 (&#x27;scaler&#x27;, StandardScaler())]),\n",
       "                                 [&#x27;age&#x27;, &#x27;weekly_hours&#x27;,\n",
       "                                  &#x27;average_session_length&#x27;, &#x27;song_skip_rate&#x27;,\n",
       "                                  &#x27;weekly_songs_played&#x27;, &#x27;weekly_unique_songs&#x27;,\n",
       "                                  &#x27;num_favorite_artists&#x27;,\n",
       "                                  &#x27;num_platform_friends&#x27;,\n",
       "                                  &#x27;num_playlists_created&#x27;,\n",
       "                                  &#x27;num_shared_playlists&#x27;,\n",
       "                                  &#x27;notifications_clicked&#x27;])])</pre></div></div></div><div class=\"sk-parallel\"><div class=\"sk-parallel-item\"><div class=\"sk-item\"><div class=\"sk-label-container\"><div class=\"sk-label sk-toggleable\"><input class=\"sk-toggleable__control sk-hidden--visually\" id=\"sk-estimator-id-12\" type=\"checkbox\" ><label for=\"sk-estimator-id-12\" class=\"sk-toggleable__label sk-toggleable__label-arrow\">num</label><div class=\"sk-toggleable__content\"><pre>[&#x27;age&#x27;, &#x27;weekly_hours&#x27;, &#x27;average_session_length&#x27;, &#x27;song_skip_rate&#x27;, &#x27;weekly_songs_played&#x27;, &#x27;weekly_unique_songs&#x27;, &#x27;num_favorite_artists&#x27;, &#x27;num_platform_friends&#x27;, &#x27;num_playlists_created&#x27;, &#x27;num_shared_playlists&#x27;, &#x27;notifications_clicked&#x27;]</pre></div></div></div><div class=\"sk-serial\"><div class=\"sk-item\"><div class=\"sk-serial\"><div class=\"sk-item\"><div class=\"sk-estimator sk-toggleable\"><input class=\"sk-toggleable__control sk-hidden--visually\" id=\"sk-estimator-id-13\" type=\"checkbox\" ><label for=\"sk-estimator-id-13\" class=\"sk-toggleable__label sk-toggleable__label-arrow\">SimpleImputer</label><div class=\"sk-toggleable__content\"><pre>SimpleImputer(strategy=&#x27;median&#x27;)</pre></div></div></div><div class=\"sk-item\"><div class=\"sk-estimator sk-toggleable\"><input class=\"sk-toggleable__control sk-hidden--visually\" id=\"sk-estimator-id-14\" type=\"checkbox\" ><label for=\"sk-estimator-id-14\" class=\"sk-toggleable__label sk-toggleable__label-arrow\">StandardScaler</label><div class=\"sk-toggleable__content\"><pre>StandardScaler()</pre></div></div></div></div></div></div></div></div></div></div></div></div>"
      ],
      "text/plain": [
       "ColumnTransformer(transformers=[('num',\n",
       "                                 Pipeline(steps=[('imputer',\n",
       "                                                  SimpleImputer(strategy='median')),\n",
       "                                                 ('scaler', StandardScaler())]),\n",
       "                                 ['age', 'weekly_hours',\n",
       "                                  'average_session_length', 'song_skip_rate',\n",
       "                                  'weekly_songs_played', 'weekly_unique_songs',\n",
       "                                  'num_favorite_artists',\n",
       "                                  'num_platform_friends',\n",
       "                                  'num_playlists_created',\n",
       "                                  'num_shared_playlists',\n",
       "                                  'notifications_clicked'])])"
      ]
     },
     "execution_count": 35,
     "metadata": {},
     "output_type": "execute_result"
    }
   ],
   "source": [
    "import pandas as pd\n",
    "import numpy as np\n",
    "from sklearn.tree import DecisionTreeClassifier\n",
    "from sklearn.model_selection import train_test_split\n",
    "from sklearn.preprocessing import StandardScaler\n",
    "from sklearn.compose import ColumnTransformer\n",
    "from sklearn.pipeline import Pipeline\n",
    "from sklearn.impute import SimpleImputer\n",
    "from sklearn.metrics import accuracy_score, precision_score, recall_score, f1_score, roc_auc_score, classification_report\n",
    "\n",
    "\n",
    "# Define numeric features (remove any missing ones)\n",
    "numeric_features = [\n",
    "    'age', 'weekly_hours', 'average_session_length', 'song_skip_rate', \n",
    "    'weekly_songs_played', 'weekly_unique_songs', 'num_favorite_artists', \n",
    "    'num_platform_friends', 'num_playlists_created', 'num_shared_playlists', \n",
    "    'notifications_clicked'\n",
    "]\n",
    "\n",
    "# Ensure only existing columns are used\n",
    "numeric_features = [col for col in numeric_features if col in training_data.columns]\n",
    "\n",
    "# Define the target variable\n",
    "target_variable = 'churned'\n",
    "\n",
    "# Prepare features (X) and target (y)\n",
    "X = training_data[numeric_features]\n",
    "y = training_data[target_variable]\n",
    "\n",
    "# Split data into training and testing sets\n",
    "X_train, X_test, y_train, y_test = train_test_split(\n",
    "    X, y, test_size=0.3, stratify=y, random_state=42\n",
    ")\n",
    "\n",
    "# Preprocessing pipeline for numeric features\n",
    "numeric_transformer = Pipeline(steps=[\n",
    "    ('imputer', SimpleImputer(strategy='median')),  # Handle missing values\n",
    "    ('scaler', StandardScaler())  # Standardize the data\n",
    "])\n",
    "\n",
    "# Apply transformations\n",
    "preprocessor = ColumnTransformer(transformers=[\n",
    "    ('num', numeric_transformer, numeric_features)\n",
    "])\n",
    "preprocessor\n"
   ]
  },
  {
   "cell_type": "code",
   "execution_count": 36,
   "id": "fcc2331d",
   "metadata": {
    "execution": {
     "iopub.execute_input": "2025-03-13T17:27:51.839336Z",
     "iopub.status.busy": "2025-03-13T17:27:51.838960Z",
     "iopub.status.idle": "2025-03-13T17:27:51.881041Z",
     "shell.execute_reply": "2025-03-13T17:27:51.879907Z"
    },
    "papermill": {
     "duration": 0.075878,
     "end_time": "2025-03-13T17:27:51.882661",
     "exception": false,
     "start_time": "2025-03-13T17:27:51.806783",
     "status": "completed"
    },
    "tags": []
   },
   "outputs": [
    {
     "data": {
      "text/html": [
       "<style>#sk-container-id-4 {color: black;background-color: white;}#sk-container-id-4 pre{padding: 0;}#sk-container-id-4 div.sk-toggleable {background-color: white;}#sk-container-id-4 label.sk-toggleable__label {cursor: pointer;display: block;width: 100%;margin-bottom: 0;padding: 0.3em;box-sizing: border-box;text-align: center;}#sk-container-id-4 label.sk-toggleable__label-arrow:before {content: \"▸\";float: left;margin-right: 0.25em;color: #696969;}#sk-container-id-4 label.sk-toggleable__label-arrow:hover:before {color: black;}#sk-container-id-4 div.sk-estimator:hover label.sk-toggleable__label-arrow:before {color: black;}#sk-container-id-4 div.sk-toggleable__content {max-height: 0;max-width: 0;overflow: hidden;text-align: left;background-color: #f0f8ff;}#sk-container-id-4 div.sk-toggleable__content pre {margin: 0.2em;color: black;border-radius: 0.25em;background-color: #f0f8ff;}#sk-container-id-4 input.sk-toggleable__control:checked~div.sk-toggleable__content {max-height: 200px;max-width: 100%;overflow: auto;}#sk-container-id-4 input.sk-toggleable__control:checked~label.sk-toggleable__label-arrow:before {content: \"▾\";}#sk-container-id-4 div.sk-estimator input.sk-toggleable__control:checked~label.sk-toggleable__label {background-color: #d4ebff;}#sk-container-id-4 div.sk-label input.sk-toggleable__control:checked~label.sk-toggleable__label {background-color: #d4ebff;}#sk-container-id-4 input.sk-hidden--visually {border: 0;clip: rect(1px 1px 1px 1px);clip: rect(1px, 1px, 1px, 1px);height: 1px;margin: -1px;overflow: hidden;padding: 0;position: absolute;width: 1px;}#sk-container-id-4 div.sk-estimator {font-family: monospace;background-color: #f0f8ff;border: 1px dotted black;border-radius: 0.25em;box-sizing: border-box;margin-bottom: 0.5em;}#sk-container-id-4 div.sk-estimator:hover {background-color: #d4ebff;}#sk-container-id-4 div.sk-parallel-item::after {content: \"\";width: 100%;border-bottom: 1px solid gray;flex-grow: 1;}#sk-container-id-4 div.sk-label:hover label.sk-toggleable__label {background-color: #d4ebff;}#sk-container-id-4 div.sk-serial::before {content: \"\";position: absolute;border-left: 1px solid gray;box-sizing: border-box;top: 0;bottom: 0;left: 50%;z-index: 0;}#sk-container-id-4 div.sk-serial {display: flex;flex-direction: column;align-items: center;background-color: white;padding-right: 0.2em;padding-left: 0.2em;position: relative;}#sk-container-id-4 div.sk-item {position: relative;z-index: 1;}#sk-container-id-4 div.sk-parallel {display: flex;align-items: stretch;justify-content: center;background-color: white;position: relative;}#sk-container-id-4 div.sk-item::before, #sk-container-id-4 div.sk-parallel-item::before {content: \"\";position: absolute;border-left: 1px solid gray;box-sizing: border-box;top: 0;bottom: 0;left: 50%;z-index: -1;}#sk-container-id-4 div.sk-parallel-item {display: flex;flex-direction: column;z-index: 1;position: relative;background-color: white;}#sk-container-id-4 div.sk-parallel-item:first-child::after {align-self: flex-end;width: 50%;}#sk-container-id-4 div.sk-parallel-item:last-child::after {align-self: flex-start;width: 50%;}#sk-container-id-4 div.sk-parallel-item:only-child::after {width: 0;}#sk-container-id-4 div.sk-dashed-wrapped {border: 1px dashed gray;margin: 0 0.4em 0.5em 0.4em;box-sizing: border-box;padding-bottom: 0.4em;background-color: white;}#sk-container-id-4 div.sk-label label {font-family: monospace;font-weight: bold;display: inline-block;line-height: 1.2em;}#sk-container-id-4 div.sk-label-container {text-align: center;}#sk-container-id-4 div.sk-container {/* jupyter's `normalize.less` sets `[hidden] { display: none; }` but bootstrap.min.css set `[hidden] { display: none !important; }` so we also need the `!important` here to be able to override the default hidden behavior on the sphinx rendered scikit-learn.org. See: https://github.com/scikit-learn/scikit-learn/issues/21755 */display: inline-block !important;position: relative;}#sk-container-id-4 div.sk-text-repr-fallback {display: none;}</style><div id=\"sk-container-id-4\" class=\"sk-top-container\"><div class=\"sk-text-repr-fallback\"><pre>Pipeline(steps=[(&#x27;preprocessor&#x27;,\n",
       "                 ColumnTransformer(transformers=[(&#x27;num&#x27;,\n",
       "                                                  Pipeline(steps=[(&#x27;imputer&#x27;,\n",
       "                                                                   SimpleImputer(strategy=&#x27;median&#x27;)),\n",
       "                                                                  (&#x27;scaler&#x27;,\n",
       "                                                                   StandardScaler())]),\n",
       "                                                  [&#x27;age&#x27;, &#x27;weekly_hours&#x27;,\n",
       "                                                   &#x27;average_session_length&#x27;,\n",
       "                                                   &#x27;song_skip_rate&#x27;,\n",
       "                                                   &#x27;weekly_songs_played&#x27;,\n",
       "                                                   &#x27;weekly_unique_songs&#x27;,\n",
       "                                                   &#x27;num_favorite_artists&#x27;,\n",
       "                                                   &#x27;num_platform_friends&#x27;,\n",
       "                                                   &#x27;num_playlists_created&#x27;,\n",
       "                                                   &#x27;num_shared_playlists&#x27;,\n",
       "                                                   &#x27;notifications_clicked&#x27;])])),\n",
       "                (&#x27;classifier&#x27;,\n",
       "                 DecisionTreeClassifier(class_weight=&#x27;balanced&#x27;, max_depth=10,\n",
       "                                        min_samples_leaf=3, min_samples_split=5,\n",
       "                                        random_state=42))])</pre><b>In a Jupyter environment, please rerun this cell to show the HTML representation or trust the notebook. <br />On GitHub, the HTML representation is unable to render, please try loading this page with nbviewer.org.</b></div><div class=\"sk-container\" hidden><div class=\"sk-item sk-dashed-wrapped\"><div class=\"sk-label-container\"><div class=\"sk-label sk-toggleable\"><input class=\"sk-toggleable__control sk-hidden--visually\" id=\"sk-estimator-id-15\" type=\"checkbox\" ><label for=\"sk-estimator-id-15\" class=\"sk-toggleable__label sk-toggleable__label-arrow\">Pipeline</label><div class=\"sk-toggleable__content\"><pre>Pipeline(steps=[(&#x27;preprocessor&#x27;,\n",
       "                 ColumnTransformer(transformers=[(&#x27;num&#x27;,\n",
       "                                                  Pipeline(steps=[(&#x27;imputer&#x27;,\n",
       "                                                                   SimpleImputer(strategy=&#x27;median&#x27;)),\n",
       "                                                                  (&#x27;scaler&#x27;,\n",
       "                                                                   StandardScaler())]),\n",
       "                                                  [&#x27;age&#x27;, &#x27;weekly_hours&#x27;,\n",
       "                                                   &#x27;average_session_length&#x27;,\n",
       "                                                   &#x27;song_skip_rate&#x27;,\n",
       "                                                   &#x27;weekly_songs_played&#x27;,\n",
       "                                                   &#x27;weekly_unique_songs&#x27;,\n",
       "                                                   &#x27;num_favorite_artists&#x27;,\n",
       "                                                   &#x27;num_platform_friends&#x27;,\n",
       "                                                   &#x27;num_playlists_created&#x27;,\n",
       "                                                   &#x27;num_shared_playlists&#x27;,\n",
       "                                                   &#x27;notifications_clicked&#x27;])])),\n",
       "                (&#x27;classifier&#x27;,\n",
       "                 DecisionTreeClassifier(class_weight=&#x27;balanced&#x27;, max_depth=10,\n",
       "                                        min_samples_leaf=3, min_samples_split=5,\n",
       "                                        random_state=42))])</pre></div></div></div><div class=\"sk-serial\"><div class=\"sk-item sk-dashed-wrapped\"><div class=\"sk-label-container\"><div class=\"sk-label sk-toggleable\"><input class=\"sk-toggleable__control sk-hidden--visually\" id=\"sk-estimator-id-16\" type=\"checkbox\" ><label for=\"sk-estimator-id-16\" class=\"sk-toggleable__label sk-toggleable__label-arrow\">preprocessor: ColumnTransformer</label><div class=\"sk-toggleable__content\"><pre>ColumnTransformer(transformers=[(&#x27;num&#x27;,\n",
       "                                 Pipeline(steps=[(&#x27;imputer&#x27;,\n",
       "                                                  SimpleImputer(strategy=&#x27;median&#x27;)),\n",
       "                                                 (&#x27;scaler&#x27;, StandardScaler())]),\n",
       "                                 [&#x27;age&#x27;, &#x27;weekly_hours&#x27;,\n",
       "                                  &#x27;average_session_length&#x27;, &#x27;song_skip_rate&#x27;,\n",
       "                                  &#x27;weekly_songs_played&#x27;, &#x27;weekly_unique_songs&#x27;,\n",
       "                                  &#x27;num_favorite_artists&#x27;,\n",
       "                                  &#x27;num_platform_friends&#x27;,\n",
       "                                  &#x27;num_playlists_created&#x27;,\n",
       "                                  &#x27;num_shared_playlists&#x27;,\n",
       "                                  &#x27;notifications_clicked&#x27;])])</pre></div></div></div><div class=\"sk-parallel\"><div class=\"sk-parallel-item\"><div class=\"sk-item\"><div class=\"sk-label-container\"><div class=\"sk-label sk-toggleable\"><input class=\"sk-toggleable__control sk-hidden--visually\" id=\"sk-estimator-id-17\" type=\"checkbox\" ><label for=\"sk-estimator-id-17\" class=\"sk-toggleable__label sk-toggleable__label-arrow\">num</label><div class=\"sk-toggleable__content\"><pre>[&#x27;age&#x27;, &#x27;weekly_hours&#x27;, &#x27;average_session_length&#x27;, &#x27;song_skip_rate&#x27;, &#x27;weekly_songs_played&#x27;, &#x27;weekly_unique_songs&#x27;, &#x27;num_favorite_artists&#x27;, &#x27;num_platform_friends&#x27;, &#x27;num_playlists_created&#x27;, &#x27;num_shared_playlists&#x27;, &#x27;notifications_clicked&#x27;]</pre></div></div></div><div class=\"sk-serial\"><div class=\"sk-item\"><div class=\"sk-serial\"><div class=\"sk-item\"><div class=\"sk-estimator sk-toggleable\"><input class=\"sk-toggleable__control sk-hidden--visually\" id=\"sk-estimator-id-18\" type=\"checkbox\" ><label for=\"sk-estimator-id-18\" class=\"sk-toggleable__label sk-toggleable__label-arrow\">SimpleImputer</label><div class=\"sk-toggleable__content\"><pre>SimpleImputer(strategy=&#x27;median&#x27;)</pre></div></div></div><div class=\"sk-item\"><div class=\"sk-estimator sk-toggleable\"><input class=\"sk-toggleable__control sk-hidden--visually\" id=\"sk-estimator-id-19\" type=\"checkbox\" ><label for=\"sk-estimator-id-19\" class=\"sk-toggleable__label sk-toggleable__label-arrow\">StandardScaler</label><div class=\"sk-toggleable__content\"><pre>StandardScaler()</pre></div></div></div></div></div></div></div></div></div></div><div class=\"sk-item\"><div class=\"sk-estimator sk-toggleable\"><input class=\"sk-toggleable__control sk-hidden--visually\" id=\"sk-estimator-id-20\" type=\"checkbox\" ><label for=\"sk-estimator-id-20\" class=\"sk-toggleable__label sk-toggleable__label-arrow\">DecisionTreeClassifier</label><div class=\"sk-toggleable__content\"><pre>DecisionTreeClassifier(class_weight=&#x27;balanced&#x27;, max_depth=10,\n",
       "                       min_samples_leaf=3, min_samples_split=5,\n",
       "                       random_state=42)</pre></div></div></div></div></div></div></div>"
      ],
      "text/plain": [
       "Pipeline(steps=[('preprocessor',\n",
       "                 ColumnTransformer(transformers=[('num',\n",
       "                                                  Pipeline(steps=[('imputer',\n",
       "                                                                   SimpleImputer(strategy='median')),\n",
       "                                                                  ('scaler',\n",
       "                                                                   StandardScaler())]),\n",
       "                                                  ['age', 'weekly_hours',\n",
       "                                                   'average_session_length',\n",
       "                                                   'song_skip_rate',\n",
       "                                                   'weekly_songs_played',\n",
       "                                                   'weekly_unique_songs',\n",
       "                                                   'num_favorite_artists',\n",
       "                                                   'num_platform_friends',\n",
       "                                                   'num_playlists_created',\n",
       "                                                   'num_shared_playlists',\n",
       "                                                   'notifications_clicked'])])),\n",
       "                ('classifier',\n",
       "                 DecisionTreeClassifier(class_weight='balanced', max_depth=10,\n",
       "                                        min_samples_leaf=3, min_samples_split=5,\n",
       "                                        random_state=42))])"
      ]
     },
     "execution_count": 36,
     "metadata": {},
     "output_type": "execute_result"
    }
   ],
   "source": [
    "# Build the Decision Tree pipeline\n",
    "decision_tree_pipeline = Pipeline(steps=[\n",
    "    ('preprocessor', preprocessor),\n",
    "    ('classifier', DecisionTreeClassifier(\n",
    "        random_state=42,\n",
    "        max_depth=10,       # Limit depth to prevent overfitting\n",
    "        min_samples_split=5,  \n",
    "        min_samples_leaf=3, \n",
    "        class_weight='balanced'  # Adjusts for class imbalance\n",
    "    ))\n",
    "])\n",
    "decision_tree_pipeline"
   ]
  },
  {
   "cell_type": "code",
   "execution_count": 37,
   "id": "c7c89cc5",
   "metadata": {
    "execution": {
     "iopub.execute_input": "2025-03-13T17:27:51.947257Z",
     "iopub.status.busy": "2025-03-13T17:27:51.946895Z",
     "iopub.status.idle": "2025-03-13T17:27:52.311962Z",
     "shell.execute_reply": "2025-03-13T17:27:52.310619Z"
    },
    "papermill": {
     "duration": 0.399323,
     "end_time": "2025-03-13T17:27:52.313886",
     "exception": false,
     "start_time": "2025-03-13T17:27:51.914563",
     "status": "completed"
    },
    "tags": []
   },
   "outputs": [
    {
     "name": "stdout",
     "output_type": "stream",
     "text": [
      "Accuracy: 0.5698\n",
      "Precision: 0.2468\n",
      "Recall: 0.4954\n",
      "F1-Score: 0.3294\n",
      "AUC-ROC: 0.5427\n",
      "\n",
      "Classification Report:\n",
      "               precision    recall  f1-score   support\n",
      "\n",
      "           0       0.81      0.59      0.68      9676\n",
      "           1       0.25      0.50      0.33      2624\n",
      "\n",
      "    accuracy                           0.57     12300\n",
      "   macro avg       0.53      0.54      0.51     12300\n",
      "weighted avg       0.69      0.57      0.61     12300\n",
      "\n"
     ]
    }
   ],
   "source": [
    "# Train the model\n",
    "decision_tree_pipeline.fit(X_train, y_train)\n",
    "\n",
    "# Make predictions on test data\n",
    "y_pred = decision_tree_pipeline.predict(X_test)\n",
    "\n",
    "# Evaluate model performance\n",
    "accuracy = accuracy_score(y_test, y_pred)\n",
    "precision = precision_score(y_test, y_pred)\n",
    "recall = recall_score(y_test, y_pred)\n",
    "f1 = f1_score(y_test, y_pred)\n",
    "auc_roc = roc_auc_score(y_test, y_pred)\n",
    "\n",
    "# Print evaluation results\n",
    "print(f\"Accuracy: {accuracy:.4f}\")\n",
    "print(f\"Precision: {precision:.4f}\")\n",
    "print(f\"Recall: {recall:.4f}\")\n",
    "print(f\"F1-Score: {f1:.4f}\")\n",
    "print(f\"AUC-ROC: {auc_roc:.4f}\")\n",
    "print(\"\\nClassification Report:\\n\", classification_report(y_test, y_pred))\n"
   ]
  },
  {
   "cell_type": "code",
   "execution_count": 38,
   "id": "edced952",
   "metadata": {
    "execution": {
     "iopub.execute_input": "2025-03-13T17:27:52.392403Z",
     "iopub.status.busy": "2025-03-13T17:27:52.392039Z",
     "iopub.status.idle": "2025-03-13T17:27:52.399129Z",
     "shell.execute_reply": "2025-03-13T17:27:52.397920Z"
    },
    "papermill": {
     "duration": 0.050964,
     "end_time": "2025-03-13T17:27:52.401113",
     "exception": false,
     "start_time": "2025-03-13T17:27:52.350149",
     "status": "completed"
    },
    "tags": []
   },
   "outputs": [
    {
     "name": "stdout",
     "output_type": "stream",
     "text": [
      "Value Counts of Predictions:\n",
      "0    7032\n",
      "1    5268\n",
      "Name: count, dtype: int64\n"
     ]
    }
   ],
   "source": [
    "# Check distribution of predictions\n",
    "prediction_counts = pd.Series(y_pred).value_counts()\n",
    "print(\"Value Counts of Predictions:\")\n",
    "print(prediction_counts)"
   ]
  },
  {
   "cell_type": "code",
   "execution_count": 39,
   "id": "70c315da",
   "metadata": {
    "execution": {
     "iopub.execute_input": "2025-03-13T17:27:52.475512Z",
     "iopub.status.busy": "2025-03-13T17:27:52.475124Z",
     "iopub.status.idle": "2025-03-13T17:27:52.507445Z",
     "shell.execute_reply": "2025-03-13T17:27:52.506283Z"
    },
    "papermill": {
     "duration": 0.067176,
     "end_time": "2025-03-13T17:27:52.509579",
     "exception": false,
     "start_time": "2025-03-13T17:27:52.442403",
     "status": "completed"
    },
    "tags": []
   },
   "outputs": [
    {
     "data": {
      "text/html": [
       "<div>\n",
       "<style scoped>\n",
       "    .dataframe tbody tr th:only-of-type {\n",
       "        vertical-align: middle;\n",
       "    }\n",
       "\n",
       "    .dataframe tbody tr th {\n",
       "        vertical-align: top;\n",
       "    }\n",
       "\n",
       "    .dataframe thead th {\n",
       "        text-align: right;\n",
       "    }\n",
       "</style>\n",
       "<table border=\"1\" class=\"dataframe\">\n",
       "  <thead>\n",
       "    <tr style=\"text-align: right;\">\n",
       "      <th></th>\n",
       "      <th>customer_id</th>\n",
       "      <th>age</th>\n",
       "      <th>location</th>\n",
       "      <th>subscription_type</th>\n",
       "      <th>payment_plan</th>\n",
       "      <th>num_subscription_pauses</th>\n",
       "      <th>payment_method</th>\n",
       "      <th>customer_service_inquiries</th>\n",
       "      <th>signup_date</th>\n",
       "      <th>weekly_hours</th>\n",
       "      <th>...</th>\n",
       "      <th>song_skip_rate</th>\n",
       "      <th>weekly_songs_played</th>\n",
       "      <th>weekly_unique_songs</th>\n",
       "      <th>num_favorite_artists</th>\n",
       "      <th>num_platform_friends</th>\n",
       "      <th>num_playlists_created</th>\n",
       "      <th>num_shared_playlists</th>\n",
       "      <th>notifications_clicked</th>\n",
       "      <th>PlaylistEngagementScore</th>\n",
       "      <th>PlaylistEngagementCategory</th>\n",
       "    </tr>\n",
       "  </thead>\n",
       "  <tbody>\n",
       "    <tr>\n",
       "      <th>5745</th>\n",
       "      <td>46746</td>\n",
       "      <td>21</td>\n",
       "      <td>Washington</td>\n",
       "      <td>student</td>\n",
       "      <td>annual</td>\n",
       "      <td>annual</td>\n",
       "      <td>debit</td>\n",
       "      <td>few</td>\n",
       "      <td>3/11/2017</td>\n",
       "      <td>0.495789</td>\n",
       "      <td>...</td>\n",
       "      <td>0.93</td>\n",
       "      <td>7</td>\n",
       "      <td>5</td>\n",
       "      <td>7</td>\n",
       "      <td>102</td>\n",
       "      <td>12</td>\n",
       "      <td>3</td>\n",
       "      <td>112</td>\n",
       "      <td>0.230769</td>\n",
       "      <td>Moderate</td>\n",
       "    </tr>\n",
       "    <tr>\n",
       "      <th>5997</th>\n",
       "      <td>46998</td>\n",
       "      <td>73</td>\n",
       "      <td>North Dakota</td>\n",
       "      <td>basic</td>\n",
       "      <td>annual</td>\n",
       "      <td>annual</td>\n",
       "      <td>credit</td>\n",
       "      <td>none</td>\n",
       "      <td>7/10/2017</td>\n",
       "      <td>11.900286</td>\n",
       "      <td>...</td>\n",
       "      <td>0.90</td>\n",
       "      <td>143</td>\n",
       "      <td>116</td>\n",
       "      <td>18</td>\n",
       "      <td>46</td>\n",
       "      <td>15</td>\n",
       "      <td>4</td>\n",
       "      <td>254</td>\n",
       "      <td>0.250000</td>\n",
       "      <td>Moderate</td>\n",
       "    </tr>\n",
       "    <tr>\n",
       "      <th>5576</th>\n",
       "      <td>46577</td>\n",
       "      <td>52</td>\n",
       "      <td>South Carolina</td>\n",
       "      <td>family premium</td>\n",
       "      <td>monthly</td>\n",
       "      <td>annual</td>\n",
       "      <td>debit</td>\n",
       "      <td>many</td>\n",
       "      <td>12/29/2016</td>\n",
       "      <td>10.731195</td>\n",
       "      <td>...</td>\n",
       "      <td>0.11</td>\n",
       "      <td>139</td>\n",
       "      <td>98</td>\n",
       "      <td>18</td>\n",
       "      <td>69</td>\n",
       "      <td>19</td>\n",
       "      <td>5</td>\n",
       "      <td>0</td>\n",
       "      <td>0.250000</td>\n",
       "      <td>Moderate</td>\n",
       "    </tr>\n",
       "    <tr>\n",
       "      <th>6700</th>\n",
       "      <td>47701</td>\n",
       "      <td>27</td>\n",
       "      <td>North Dakota</td>\n",
       "      <td>premium</td>\n",
       "      <td>annual</td>\n",
       "      <td>monthly</td>\n",
       "      <td>credit</td>\n",
       "      <td>many</td>\n",
       "      <td>4/24/2018</td>\n",
       "      <td>22.245118</td>\n",
       "      <td>...</td>\n",
       "      <td>0.69</td>\n",
       "      <td>398</td>\n",
       "      <td>273</td>\n",
       "      <td>43</td>\n",
       "      <td>100</td>\n",
       "      <td>15</td>\n",
       "      <td>8</td>\n",
       "      <td>109</td>\n",
       "      <td>0.500000</td>\n",
       "      <td>Moderate</td>\n",
       "    </tr>\n",
       "    <tr>\n",
       "      <th>135</th>\n",
       "      <td>41136</td>\n",
       "      <td>74</td>\n",
       "      <td>Maine</td>\n",
       "      <td>family premium</td>\n",
       "      <td>monthly</td>\n",
       "      <td>monthly</td>\n",
       "      <td>debit</td>\n",
       "      <td>none</td>\n",
       "      <td>8/9/2018</td>\n",
       "      <td>1.904998</td>\n",
       "      <td>...</td>\n",
       "      <td>0.28</td>\n",
       "      <td>26</td>\n",
       "      <td>15</td>\n",
       "      <td>5</td>\n",
       "      <td>50</td>\n",
       "      <td>7</td>\n",
       "      <td>2</td>\n",
       "      <td>2</td>\n",
       "      <td>0.250000</td>\n",
       "      <td>Moderate</td>\n",
       "    </tr>\n",
       "  </tbody>\n",
       "</table>\n",
       "<p>5 rows × 21 columns</p>\n",
       "</div>"
      ],
      "text/plain": [
       "      customer_id  age        location subscription_type payment_plan  \\\n",
       "5745        46746   21      Washington           student       annual   \n",
       "5997        46998   73    North Dakota             basic       annual   \n",
       "5576        46577   52  South Carolina    family premium      monthly   \n",
       "6700        47701   27    North Dakota           premium       annual   \n",
       "135         41136   74           Maine    family premium      monthly   \n",
       "\n",
       "     num_subscription_pauses payment_method customer_service_inquiries  \\\n",
       "5745                  annual          debit                        few   \n",
       "5997                  annual         credit                       none   \n",
       "5576                  annual          debit                       many   \n",
       "6700                 monthly         credit                       many   \n",
       "135                  monthly          debit                       none   \n",
       "\n",
       "     signup_date  weekly_hours  ...  song_skip_rate  weekly_songs_played  \\\n",
       "5745   3/11/2017      0.495789  ...            0.93                    7   \n",
       "5997   7/10/2017     11.900286  ...            0.90                  143   \n",
       "5576  12/29/2016     10.731195  ...            0.11                  139   \n",
       "6700   4/24/2018     22.245118  ...            0.69                  398   \n",
       "135     8/9/2018      1.904998  ...            0.28                   26   \n",
       "\n",
       "      weekly_unique_songs  num_favorite_artists  num_platform_friends  \\\n",
       "5745                    5                     7                   102   \n",
       "5997                  116                    18                    46   \n",
       "5576                   98                    18                    69   \n",
       "6700                  273                    43                   100   \n",
       "135                    15                     5                    50   \n",
       "\n",
       "      num_playlists_created  num_shared_playlists  notifications_clicked  \\\n",
       "5745                     12                     3                    112   \n",
       "5997                     15                     4                    254   \n",
       "5576                     19                     5                      0   \n",
       "6700                     15                     8                    109   \n",
       "135                       7                     2                      2   \n",
       "\n",
       "      PlaylistEngagementScore  PlaylistEngagementCategory  \n",
       "5745                 0.230769                    Moderate  \n",
       "5997                 0.250000                    Moderate  \n",
       "5576                 0.250000                    Moderate  \n",
       "6700                 0.500000                    Moderate  \n",
       "135                  0.250000                    Moderate  \n",
       "\n",
       "[5 rows x 21 columns]"
      ]
     },
     "execution_count": 39,
     "metadata": {},
     "output_type": "execute_result"
    }
   ],
   "source": [
    "testing_data_new = feature_engineering(df = testing_data)\n",
    "testing_data_new.sample(5)"
   ]
  },
  {
   "cell_type": "code",
   "execution_count": 40,
   "id": "06efc5d5",
   "metadata": {
    "execution": {
     "iopub.execute_input": "2025-03-13T17:27:52.576784Z",
     "iopub.status.busy": "2025-03-13T17:27:52.576340Z",
     "iopub.status.idle": "2025-03-13T17:27:52.840646Z",
     "shell.execute_reply": "2025-03-13T17:27:52.839323Z"
    },
    "papermill": {
     "duration": 0.299551,
     "end_time": "2025-03-13T17:27:52.842593",
     "exception": false,
     "start_time": "2025-03-13T17:27:52.543042",
     "status": "completed"
    },
    "tags": []
   },
   "outputs": [
    {
     "name": "stdout",
     "output_type": "stream",
     "text": [
      "submission.csv saved successfully!\n"
     ]
    }
   ],
   "source": [
    "# Make predictions on the test dataset\n",
    "test_predictions = random_forest_model.predict(testing_data_new)\n",
    "\n",
    "# Prepare submission file without 'id'\n",
    "submission = pd.DataFrame({\"customer_id\" : testing_data_new[\"customer_id\"],\"churned\": test_predictions})\n",
    "\n",
    "# Save submission file\n",
    "submission.to_csv(\"submission.csv\", index=False)\n",
    "\n",
    "# Verify if the file is saved correctly\n",
    "import os\n",
    "if \"submission.csv\" in os.listdir():\n",
    "    print(\"submission.csv saved successfully!\")\n",
    "else:\n",
    "    print(\"Error: submission.csv was not found.\")"
   ]
  },
  {
   "cell_type": "code",
   "execution_count": 41,
   "id": "57d288a2",
   "metadata": {
    "execution": {
     "iopub.execute_input": "2025-03-13T17:27:52.910944Z",
     "iopub.status.busy": "2025-03-13T17:27:52.910496Z",
     "iopub.status.idle": "2025-03-13T17:27:52.918984Z",
     "shell.execute_reply": "2025-03-13T17:27:52.917755Z"
    },
    "papermill": {
     "duration": 0.045138,
     "end_time": "2025-03-13T17:27:52.920761",
     "exception": false,
     "start_time": "2025-03-13T17:27:52.875623",
     "status": "completed"
    },
    "tags": []
   },
   "outputs": [
    {
     "data": {
      "text/plain": [
       "churned\n",
       "0    9994\n",
       "1       5\n",
       "Name: count, dtype: int64"
      ]
     },
     "execution_count": 41,
     "metadata": {},
     "output_type": "execute_result"
    }
   ],
   "source": [
    "submission['churned'].value_counts()"
   ]
  },
  {
   "cell_type": "code",
   "execution_count": 42,
   "id": "fc9c337b",
   "metadata": {
    "execution": {
     "iopub.execute_input": "2025-03-13T17:27:52.989223Z",
     "iopub.status.busy": "2025-03-13T17:27:52.988826Z",
     "iopub.status.idle": "2025-03-13T17:27:53.012684Z",
     "shell.execute_reply": "2025-03-13T17:27:53.011373Z"
    },
    "papermill": {
     "duration": 0.060989,
     "end_time": "2025-03-13T17:27:53.015242",
     "exception": false,
     "start_time": "2025-03-13T17:27:52.954253",
     "status": "completed"
    },
    "tags": []
   },
   "outputs": [
    {
     "name": "stdout",
     "output_type": "stream",
     "text": [
      "submission.csv saved successfully!\n"
     ]
    }
   ],
   "source": [
    "# Make predictions on the test dataset\n",
    "test_predictions = decision_tree_pipeline.predict(testing_data_new)\n",
    "\n",
    "# Prepare submission file without 'id'\n",
    "submission = pd.DataFrame({\"customer_id\": testing_data_new[\"customer_id\"], \"churned\": test_predictions})\n",
    "\n",
    "# Save submission file\n",
    "submission.to_csv(\"submission.csv\", index=False)\n",
    "\n",
    "# Verify if the file is saved correctly\n",
    "if \"submission.csv\" in os.listdir():\n",
    "    print(\"submission.csv saved successfully!\")\n",
    "else:\n",
    "    print(\"Error: submission.csv was not found.\")"
   ]
  },
  {
   "cell_type": "code",
   "execution_count": 43,
   "id": "ea881a7c",
   "metadata": {
    "execution": {
     "iopub.execute_input": "2025-03-13T17:27:53.083025Z",
     "iopub.status.busy": "2025-03-13T17:27:53.082628Z",
     "iopub.status.idle": "2025-03-13T17:27:53.090867Z",
     "shell.execute_reply": "2025-03-13T17:27:53.089421Z"
    },
    "papermill": {
     "duration": 0.044428,
     "end_time": "2025-03-13T17:27:53.093314",
     "exception": false,
     "start_time": "2025-03-13T17:27:53.048886",
     "status": "completed"
    },
    "tags": []
   },
   "outputs": [
    {
     "data": {
      "text/plain": [
       "churned\n",
       "0    9856\n",
       "1     143\n",
       "Name: count, dtype: int64"
      ]
     },
     "execution_count": 43,
     "metadata": {},
     "output_type": "execute_result"
    }
   ],
   "source": [
    "submission['churned'].value_counts()"
   ]
  },
  {
   "cell_type": "code",
   "execution_count": 44,
   "id": "bdb9d736",
   "metadata": {
    "execution": {
     "iopub.execute_input": "2025-03-13T17:27:53.161141Z",
     "iopub.status.busy": "2025-03-13T17:27:53.160696Z",
     "iopub.status.idle": "2025-03-13T17:27:53.169359Z",
     "shell.execute_reply": "2025-03-13T17:27:53.168275Z"
    },
    "papermill": {
     "duration": 0.044195,
     "end_time": "2025-03-13T17:27:53.171251",
     "exception": false,
     "start_time": "2025-03-13T17:27:53.127056",
     "status": "completed"
    },
    "tags": []
   },
   "outputs": [
    {
     "data": {
      "text/html": [
       "<div>\n",
       "<style scoped>\n",
       "    .dataframe tbody tr th:only-of-type {\n",
       "        vertical-align: middle;\n",
       "    }\n",
       "\n",
       "    .dataframe tbody tr th {\n",
       "        vertical-align: top;\n",
       "    }\n",
       "\n",
       "    .dataframe thead th {\n",
       "        text-align: right;\n",
       "    }\n",
       "</style>\n",
       "<table border=\"1\" class=\"dataframe\">\n",
       "  <thead>\n",
       "    <tr style=\"text-align: right;\">\n",
       "      <th></th>\n",
       "      <th>customer_id</th>\n",
       "      <th>churned</th>\n",
       "    </tr>\n",
       "  </thead>\n",
       "  <tbody>\n",
       "    <tr>\n",
       "      <th>0</th>\n",
       "      <td>41001</td>\n",
       "      <td>0</td>\n",
       "    </tr>\n",
       "    <tr>\n",
       "      <th>1</th>\n",
       "      <td>41002</td>\n",
       "      <td>0</td>\n",
       "    </tr>\n",
       "    <tr>\n",
       "      <th>2</th>\n",
       "      <td>41003</td>\n",
       "      <td>0</td>\n",
       "    </tr>\n",
       "    <tr>\n",
       "      <th>3</th>\n",
       "      <td>41004</td>\n",
       "      <td>0</td>\n",
       "    </tr>\n",
       "    <tr>\n",
       "      <th>4</th>\n",
       "      <td>41005</td>\n",
       "      <td>0</td>\n",
       "    </tr>\n",
       "  </tbody>\n",
       "</table>\n",
       "</div>"
      ],
      "text/plain": [
       "   customer_id  churned\n",
       "0        41001        0\n",
       "1        41002        0\n",
       "2        41003        0\n",
       "3        41004        0\n",
       "4        41005        0"
      ]
     },
     "execution_count": 44,
     "metadata": {},
     "output_type": "execute_result"
    }
   ],
   "source": [
    "submission.head()"
   ]
  },
  {
   "cell_type": "markdown",
   "id": "daa61d08",
   "metadata": {
    "papermill": {
     "duration": 0.031995,
     "end_time": "2025-03-13T17:27:53.235812",
     "exception": false,
     "start_time": "2025-03-13T17:27:53.203817",
     "status": "completed"
    },
    "tags": []
   },
   "source": [
    "1) What were the main steps you took to prepare the data?\n",
    "\n",
    "Answer:\n",
    "\n",
    "First, I examined the dataset and handled any missing values by either imputing or removing rows with missing data. Then, I preprocessed the features, ensuring categorical variables were encoded properly using one-hot encoding, and numerical variables were scaled where necessary. I created additional features to enhance the model’s predictive power. This included deriving a few new features based on existing ones.\n",
    "After preprocessing, I split the dataset into training and testing sets to evaluate the performance of the model.\n",
    "\n",
    "2) What models did you try, and why did you choose the final model?\n",
    "\n",
    "Answer:\n",
    "\n",
    "Initially, I experimented with several classification models, such as Logistic Regression,Decision Tree, XGB, and Random Forest. I chose the Random Forest model as the final model due to its ability to handle complex, non-linear relationships between features and its robustness to overfitting.\n",
    "Additionally, Random Forest allows me to assess feature importance, which was an important part of my analysis.\n",
    "\n",
    "3) How did you evaluate the performance of your model?\n",
    "\n",
    "Answer:\n",
    "\n",
    "I evaluated the model’s performance on the training data and later on testing data, ensuring it was robust and generalized well to unseen data. For performance metrics, I primarily relied on accuracy, precision, recall, and F1 score, depending on the classification problem.\n"
   ]
  },
  {
   "cell_type": "code",
   "execution_count": null,
   "id": "f7d6ae63",
   "metadata": {
    "papermill": {
     "duration": 0.035669,
     "end_time": "2025-03-13T17:27:53.304318",
     "exception": false,
     "start_time": "2025-03-13T17:27:53.268649",
     "status": "completed"
    },
    "tags": []
   },
   "outputs": [],
   "source": []
  },
  {
   "cell_type": "code",
   "execution_count": null,
   "id": "033d35d2",
   "metadata": {
    "papermill": {
     "duration": 0.032043,
     "end_time": "2025-03-13T17:27:53.369770",
     "exception": false,
     "start_time": "2025-03-13T17:27:53.337727",
     "status": "completed"
    },
    "tags": []
   },
   "outputs": [],
   "source": []
  }
 ],
 "metadata": {
  "kaggle": {
   "accelerator": "none",
   "dataSources": [
    {
     "databundleVersionId": 11360977,
     "sourceId": 95430,
     "sourceType": "competition"
    }
   ],
   "dockerImageVersionId": 30918,
   "isGpuEnabled": false,
   "isInternetEnabled": true,
   "language": "python",
   "sourceType": "notebook"
  },
  "kernelspec": {
   "display_name": "Python 3",
   "language": "python",
   "name": "python3"
  },
  "language_info": {
   "codemirror_mode": {
    "name": "ipython",
    "version": 3
   },
   "file_extension": ".py",
   "mimetype": "text/x-python",
   "name": "python",
   "nbconvert_exporter": "python",
   "pygments_lexer": "ipython3",
   "version": "3.10.12"
  },
  "papermill": {
   "default_parameters": {},
   "duration": 47.818409,
   "end_time": "2025-03-13T17:27:54.225036",
   "environment_variables": {},
   "exception": null,
   "input_path": "__notebook__.ipynb",
   "output_path": "__notebook__.ipynb",
   "parameters": {},
   "start_time": "2025-03-13T17:27:06.406627",
   "version": "2.6.0"
  }
 },
 "nbformat": 4,
 "nbformat_minor": 5
}
